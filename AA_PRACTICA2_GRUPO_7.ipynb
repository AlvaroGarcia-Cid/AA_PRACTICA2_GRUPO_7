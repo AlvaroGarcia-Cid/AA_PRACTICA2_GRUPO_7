{
  "cells": [
    {
      "cell_type": "markdown",
      "source": [
        "**PILAR ARIAS VAZQUEZ, ÁLVARO GARCÍA CID, YEDRA MARTÍN OLMOS, AMAYA SARASA COLINA**\n",
        "\n",
        "**<GRUPO 7>**"
      ],
      "metadata": {
        "id": "C_wsAdTJP-WU"
      },
      "id": "C_wsAdTJP-WU"
    },
    {
      "cell_type": "markdown",
      "source": [
        "# IMPORTAMOS LIBRERÍAS Y DATOS"
      ],
      "metadata": {
        "id": "ityVdRItS0lV"
      },
      "id": "ityVdRItS0lV"
    },
    {
      "cell_type": "code",
      "source": [
        "%tensorflow_version 2.x\n",
        "import tensorflow as tf\n",
        "from tensorflow import keras\n",
        "import numpy as np\n",
        "import matplotlib.pyplot as plt\n",
        "print(tf.keras.__version__)\n",
        "print(\"GPU Available:\", tf.config.list_physical_devices('GPU'))\n",
        "print(tf.__version__)\n",
        "\n",
        "from tensorflow.keras.models import Sequential\n",
        "from tensorflow.keras.layers import Dense, Flatten, Conv2D, MaxPooling2D\n",
        "from tensorflow.keras.losses import sparse_categorical_crossentropy"
      ],
      "metadata": {
        "colab": {
          "base_uri": "https://localhost:8080/"
        },
        "id": "DbpR_rXTS7-6",
        "outputId": "ffa3faa3-a31b-40e4-bab4-6cae9e699d3f"
      },
      "id": "DbpR_rXTS7-6",
      "execution_count": 2,
      "outputs": [
        {
          "output_type": "stream",
          "name": "stdout",
          "text": [
            "Colab only includes TensorFlow 2.x; %tensorflow_version has no effect.\n",
            "2.9.0\n",
            "GPU Available: [PhysicalDevice(name='/physical_device:GPU:0', device_type='GPU')]\n",
            "2.9.2\n"
          ]
        }
      ]
    },
    {
      "cell_type": "code",
      "source": [
        "(train_images, train_labels), (test_images, test_labels) = tf.keras.datasets.fashion_mnist.load_data()\n",
        "assert train_images.shape == (60000,28,28)\n",
        "assert test_images.shape == (10000,28,28)\n",
        "assert train_labels.shape == (60000,)\n",
        "assert test_labels.shape == (10000,)"
      ],
      "metadata": {
        "colab": {
          "base_uri": "https://localhost:8080/"
        },
        "id": "0zhPPQvxS-p1",
        "outputId": "21090559-1918-45c4-c9c6-a1f69ff3ec10"
      },
      "id": "0zhPPQvxS-p1",
      "execution_count": 3,
      "outputs": [
        {
          "output_type": "stream",
          "name": "stdout",
          "text": [
            "Downloading data from https://storage.googleapis.com/tensorflow/tf-keras-datasets/train-labels-idx1-ubyte.gz\n",
            "29515/29515 [==============================] - 0s 0us/step\n",
            "Downloading data from https://storage.googleapis.com/tensorflow/tf-keras-datasets/train-images-idx3-ubyte.gz\n",
            "26421880/26421880 [==============================] - 2s 0us/step\n",
            "Downloading data from https://storage.googleapis.com/tensorflow/tf-keras-datasets/t10k-labels-idx1-ubyte.gz\n",
            "5148/5148 [==============================] - 0s 0us/step\n",
            "Downloading data from https://storage.googleapis.com/tensorflow/tf-keras-datasets/t10k-images-idx3-ubyte.gz\n",
            "4422102/4422102 [==============================] - 0s 0us/step\n"
          ]
        }
      ]
    },
    {
      "cell_type": "code",
      "source": [
        "digit = train_images[1000]\n",
        "plt.imshow(digit, cmap=plt.cm.binary)\n",
        "plt.show()"
      ],
      "metadata": {
        "colab": {
          "base_uri": "https://localhost:8080/",
          "height": 265
        },
        "id": "MNnWsn66WBzm",
        "outputId": "b8104fa8-da30-449e-bf6c-6b7b6260d527"
      },
      "id": "MNnWsn66WBzm",
      "execution_count": null,
      "outputs": [
        {
          "output_type": "display_data",
          "data": {
            "text/plain": [
              "<Figure size 432x288 with 1 Axes>"
            ],
            "image/png": "[encoded data removed]"
          },
          "metadata": {
            "needs_background": "light"
          }
        }
      ]
    },
    {
      "cell_type": "code",
      "source": [
        "train_images = train_images.reshape((60000,28,28,1))\n",
        "train_images = train_images.astype('float32') / 255\n",
        "train_labels = train_labels.reshape((60000,1))\n",
        "test_images = test_images.reshape((10000,28,28,1))\n",
        "test_images = test_images.astype('float32') / 255\n",
        "test_labels = test_labels.reshape((10000,1))"
      ],
      "metadata": {
        "id": "wyccWkx8WQ4F"
      },
      "id": "wyccWkx8WQ4F",
      "execution_count": 4,
      "outputs": []
    },
    {
      "cell_type": "code",
      "source": [
        "print (train_images.shape)\n",
        "print (train_labels.shape)"
      ],
      "metadata": {
        "colab": {
          "base_uri": "https://localhost:8080/"
        },
        "id": "npoBiapWWm1C",
        "outputId": "46d794a8-a0c9-4a56-9c9f-1b4ba6f7ba2e"
      },
      "id": "npoBiapWWm1C",
      "execution_count": null,
      "outputs": [
        {
          "output_type": "stream",
          "name": "stdout",
          "text": [
            "(60000, 28, 28, 1)\n",
            "(60000, 1)\n"
          ]
        }
      ]
    },
    {
      "cell_type": "markdown",
      "source": [
        "# CASOS"
      ],
      "metadata": {
        "id": "RQBuwN9iQmsE"
      },
      "id": "RQBuwN9iQmsE"
    },
    {
      "cell_type": "markdown",
      "source": [
        "## CASO 1.1"
      ],
      "metadata": {
        "id": "yZdwmGjvQs7y"
      },
      "id": "yZdwmGjvQs7y"
    },
    {
      "cell_type": "code",
      "source": [
        "model = Sequential()\n",
        "model.add(Conv2D(32, (5, 5), strides=(1, 1), activation='relu', input_shape=(28,28,1)))\n",
        "model.add(MaxPooling2D((2, 2)))\n",
        "\n",
        "model.add(Conv2D(64, (5, 5), strides=(1, 1), activation='relu'))\n",
        "model.add(MaxPooling2D((2, 2)))\n",
        "\n",
        "model.add(Flatten())\n",
        "model.add(Dense(10, activation='softmax'))\n",
        "model.summary()"
      ],
      "metadata": {
        "colab": {
          "base_uri": "https://localhost:8080/"
        },
        "id": "g2NYcgWiQ2FC",
        "outputId": "d1db9372-ab2d-40b3-b0ba-85e120a4bf4e"
      },
      "id": "g2NYcgWiQ2FC",
      "execution_count": null,
      "outputs": [
        {
          "output_type": "stream",
          "name": "stdout",
          "text": [
            "Model: \"sequential\"\n",
            "_________________________________________________________________\n",
            " Layer (type)                Output Shape              Param #   \n",
            "=================================================================\n",
            " conv2d (Conv2D)             (None, 24, 24, 32)        832       \n",
            "                                                                 \n",
            " max_pooling2d (MaxPooling2D  (None, 12, 12, 32)       0         \n",
            " )                                                               \n",
            "                                                                 \n",
            " conv2d_1 (Conv2D)           (None, 8, 8, 64)          51264     \n",
            "                                                                 \n",
            " max_pooling2d_1 (MaxPooling  (None, 4, 4, 64)         0         \n",
            " 2D)                                                             \n",
            "                                                                 \n",
            " flatten (Flatten)           (None, 1024)              0         \n",
            "                                                                 \n",
            " dense (Dense)               (None, 10)                10250     \n",
            "                                                                 \n",
            "=================================================================\n",
            "Total params: 62,346\n",
            "Trainable params: 62,346\n",
            "Non-trainable params: 0\n",
            "_________________________________________________________________\n"
          ]
        }
      ]
    },
    {
      "cell_type": "code",
      "source": [
        "model.compile(loss=sparse_categorical_crossentropy,\n",
        "              optimizer='sgd',\n",
        "              metrics=['accuracy'])"
      ],
      "metadata": {
        "id": "5o83vGHSXWN6"
      },
      "id": "5o83vGHSXWN6",
      "execution_count": null,
      "outputs": []
    },
    {
      "cell_type": "code",
      "source": [
        "history=model.fit(train_images, train_labels,\n",
        "          batch_size=50,\n",
        "          epochs=5,\n",
        "          verbose=1,\n",
        "          validation_split=0.2)"
      ],
      "metadata": {
        "colab": {
          "base_uri": "https://localhost:8080/"
        },
        "id": "Pjx6adjDXkul",
        "outputId": "72dc79ee-0bd0-4122-f1f2-7ca9650dcf85"
      },
      "id": "Pjx6adjDXkul",
      "execution_count": null,
      "outputs": [
        {
          "output_type": "stream",
          "name": "stdout",
          "text": [
            "Epoch 1/5\n",
            "960/960 [==============================] - 13s 4ms/step - loss: 1.0040 - accuracy: 0.6504 - val_loss: 0.6403 - val_accuracy: 0.7703\n",
            "Epoch 2/5\n",
            "960/960 [==============================] - 4s 4ms/step - loss: 0.5956 - accuracy: 0.7821 - val_loss: 0.5360 - val_accuracy: 0.8067\n",
            "Epoch 3/5\n",
            "960/960 [==============================] - 4s 4ms/step - loss: 0.5185 - accuracy: 0.8138 - val_loss: 0.5142 - val_accuracy: 0.8121\n",
            "Epoch 4/5\n",
            "960/960 [==============================] - 5s 5ms/step - loss: 0.4737 - accuracy: 0.8325 - val_loss: 0.4729 - val_accuracy: 0.8283\n",
            "Epoch 5/5\n",
            "960/960 [==============================] - 4s 4ms/step - loss: 0.4432 - accuracy: 0.8431 - val_loss: 0.4444 - val_accuracy: 0.8419\n"
          ]
        }
      ]
    },
    {
      "cell_type": "code",
      "source": [
        "# Generamos las métricas de generalización\n",
        "score = model.evaluate(train_images, train_labels, verbose=0)\n",
        "print(f'Test loss: {score[0]} / Test accuracy: {score[1]}')\n",
        "\n",
        "# Visualizamos history\n",
        "# Pintamos history: Pérdida\n",
        "plt.plot(history.history['val_loss'])\n",
        "plt.title('Validation loss history')\n",
        "plt.ylabel('Loss value')\n",
        "plt.xlabel('No. epoch')\n",
        "plt.show()\n",
        "\n",
        "# Pintamos history: Precisión\n",
        "plt.plot(history.history['val_accuracy'])\n",
        "plt.title('Validation accuracy history')\n",
        "plt.ylabel('Accuracy value (%)')\n",
        "plt.xlabel('No. epoch')\n",
        "plt.show()"
      ],
      "metadata": {
        "colab": {
          "base_uri": "https://localhost:8080/",
          "height": 590
        },
        "id": "BFxKOnEaX8ea",
        "outputId": "f0e40dda-c612-407c-da5c-a3a638ea8cb3"
      },
      "id": "BFxKOnEaX8ea",
      "execution_count": null,
      "outputs": [
        {
          "output_type": "stream",
          "name": "stdout",
          "text": [
            "Test loss: 0.4323307275772095 / Test accuracy: 0.847599983215332\n"
          ]
        },
        {
          "output_type": "display_data",
          "data": {
            "text/plain": [
              "<Figure size 432x288 with 1 Axes>"
            ],
            "image/png": "[encoded data removed]"
          },
          "metadata": {
            "needs_background": "light"
          }
        },
        {
          "output_type": "display_data",
          "data": {
            "text/plain": [
              "<Figure size 432x288 with 1 Axes>"
            ],
            "image/png": "[encoded data removed]"
          },
          "metadata": {
            "needs_background": "light"
          }
        }
      ]
    },
    {
      "cell_type": "markdown",
      "source": [
        "## CASO 1.2"
      ],
      "metadata": {
        "id": "mRXmfEUZQ3pM"
      },
      "id": "mRXmfEUZQ3pM"
    },
    {
      "cell_type": "code",
      "source": [
        "model12 = Sequential()\n",
        "model12.add(Conv2D(32, (5, 5), strides=(1, 1), activation='relu', input_shape=(28,28,1)))\n",
        "model12.add(MaxPooling2D((2, 2)))\n",
        "\n",
        "model12.add(Conv2D(64, (5, 5), strides=(1, 1), activation='relu'))\n",
        "model12.add(MaxPooling2D((2, 2)))\n",
        "\n",
        "model12.add(Flatten())\n",
        "model12.add(Dense(10, activation='softmax'))\n",
        "model12.summary()"
      ],
      "metadata": {
        "colab": {
          "base_uri": "https://localhost:8080/"
        },
        "id": "orGBMsGQQ8hu",
        "outputId": "147bad30-0df5-4fde-acfa-3eaf53754e9f"
      },
      "id": "orGBMsGQQ8hu",
      "execution_count": null,
      "outputs": [
        {
          "output_type": "stream",
          "name": "stdout",
          "text": [
            "Model: \"sequential_1\"\n",
            "_________________________________________________________________\n",
            " Layer (type)                Output Shape              Param #   \n",
            "=================================================================\n",
            " conv2d_2 (Conv2D)           (None, 24, 24, 32)        832       \n",
            "                                                                 \n",
            " max_pooling2d_2 (MaxPooling  (None, 12, 12, 32)       0         \n",
            " 2D)                                                             \n",
            "                                                                 \n",
            " conv2d_3 (Conv2D)           (None, 8, 8, 64)          51264     \n",
            "                                                                 \n",
            " max_pooling2d_3 (MaxPooling  (None, 4, 4, 64)         0         \n",
            " 2D)                                                             \n",
            "                                                                 \n",
            " flatten_1 (Flatten)         (None, 1024)              0         \n",
            "                                                                 \n",
            " dense_1 (Dense)             (None, 10)                10250     \n",
            "                                                                 \n",
            "=================================================================\n",
            "Total params: 62,346\n",
            "Trainable params: 62,346\n",
            "Non-trainable params: 0\n",
            "_________________________________________________________________\n"
          ]
        }
      ]
    },
    {
      "cell_type": "code",
      "source": [
        "model12.compile(loss=sparse_categorical_crossentropy,\n",
        "              optimizer='sgd',\n",
        "              metrics=['accuracy'])"
      ],
      "metadata": {
        "id": "oqD9m7gEXZrh"
      },
      "id": "oqD9m7gEXZrh",
      "execution_count": null,
      "outputs": []
    },
    {
      "cell_type": "code",
      "source": [
        "history12=model12.fit(train_images, train_labels,\n",
        "          batch_size=50,\n",
        "          epochs=25,\n",
        "          verbose=1,\n",
        "          validation_split=0.2)"
      ],
      "metadata": {
        "colab": {
          "base_uri": "https://localhost:8080/"
        },
        "id": "US8CseZkXpuc",
        "outputId": "7d2530d1-c8f3-4fe5-d8dc-fa09d1d0f6c6"
      },
      "id": "US8CseZkXpuc",
      "execution_count": null,
      "outputs": [
        {
          "output_type": "stream",
          "name": "stdout",
          "text": [
            "Epoch 1/25\n",
            "960/960 [==============================] - 4s 4ms/step - loss: 1.0532 - accuracy: 0.6319 - val_loss: 0.6403 - val_accuracy: 0.7635\n",
            "Epoch 2/25\n",
            "960/960 [==============================] - 3s 4ms/step - loss: 0.5988 - accuracy: 0.7789 - val_loss: 0.5603 - val_accuracy: 0.7956\n",
            "Epoch 3/25\n",
            "960/960 [==============================] - 3s 3ms/step - loss: 0.5213 - accuracy: 0.8130 - val_loss: 0.5088 - val_accuracy: 0.8160\n",
            "Epoch 4/25\n",
            "960/960 [==============================] - 3s 3ms/step - loss: 0.4770 - accuracy: 0.8296 - val_loss: 0.4638 - val_accuracy: 0.8365\n",
            "Epoch 5/25\n",
            "960/960 [==============================] - 3s 4ms/step - loss: 0.4471 - accuracy: 0.8416 - val_loss: 0.4685 - val_accuracy: 0.8324\n",
            "Epoch 6/25\n",
            "960/960 [==============================] - 3s 3ms/step - loss: 0.4273 - accuracy: 0.8488 - val_loss: 0.4267 - val_accuracy: 0.8448\n",
            "Epoch 7/25\n",
            "960/960 [==============================] - 3s 4ms/step - loss: 0.4102 - accuracy: 0.8535 - val_loss: 0.4132 - val_accuracy: 0.8538\n",
            "Epoch 8/25\n",
            "960/960 [==============================] - 3s 3ms/step - loss: 0.3959 - accuracy: 0.8597 - val_loss: 0.4030 - val_accuracy: 0.8572\n",
            "Epoch 9/25\n",
            "960/960 [==============================] - 3s 3ms/step - loss: 0.3859 - accuracy: 0.8614 - val_loss: 0.3935 - val_accuracy: 0.8599\n",
            "Epoch 10/25\n",
            "960/960 [==============================] - 3s 3ms/step - loss: 0.3757 - accuracy: 0.8659 - val_loss: 0.3783 - val_accuracy: 0.8636\n",
            "Epoch 11/25\n",
            "960/960 [==============================] - 3s 4ms/step - loss: 0.3676 - accuracy: 0.8680 - val_loss: 0.3910 - val_accuracy: 0.8621\n",
            "Epoch 12/25\n",
            "960/960 [==============================] - 3s 3ms/step - loss: 0.3585 - accuracy: 0.8730 - val_loss: 0.3745 - val_accuracy: 0.8670\n",
            "Epoch 13/25\n",
            "960/960 [==============================] - 3s 3ms/step - loss: 0.3524 - accuracy: 0.8749 - val_loss: 0.3654 - val_accuracy: 0.8688\n",
            "Epoch 14/25\n",
            "960/960 [==============================] - 3s 4ms/step - loss: 0.3453 - accuracy: 0.8767 - val_loss: 0.3531 - val_accuracy: 0.8727\n",
            "Epoch 15/25\n",
            "960/960 [==============================] - 4s 4ms/step - loss: 0.3394 - accuracy: 0.8795 - val_loss: 0.3531 - val_accuracy: 0.8730\n",
            "Epoch 16/25\n",
            "960/960 [==============================] - 3s 4ms/step - loss: 0.3329 - accuracy: 0.8826 - val_loss: 0.3702 - val_accuracy: 0.8640\n",
            "Epoch 17/25\n",
            "960/960 [==============================] - 3s 3ms/step - loss: 0.3289 - accuracy: 0.8833 - val_loss: 0.3504 - val_accuracy: 0.8756\n",
            "Epoch 18/25\n",
            "960/960 [==============================] - 3s 4ms/step - loss: 0.3231 - accuracy: 0.8855 - val_loss: 0.3471 - val_accuracy: 0.8776\n",
            "Epoch 19/25\n",
            "960/960 [==============================] - 3s 3ms/step - loss: 0.3183 - accuracy: 0.8869 - val_loss: 0.3370 - val_accuracy: 0.8793\n",
            "Epoch 20/25\n",
            "960/960 [==============================] - 3s 3ms/step - loss: 0.3133 - accuracy: 0.8885 - val_loss: 0.3370 - val_accuracy: 0.8803\n",
            "Epoch 21/25\n",
            "960/960 [==============================] - 3s 3ms/step - loss: 0.3088 - accuracy: 0.8901 - val_loss: 0.3456 - val_accuracy: 0.8777\n",
            "Epoch 22/25\n",
            "960/960 [==============================] - 3s 3ms/step - loss: 0.3046 - accuracy: 0.8914 - val_loss: 0.3390 - val_accuracy: 0.8797\n",
            "Epoch 23/25\n",
            "960/960 [==============================] - 3s 3ms/step - loss: 0.3002 - accuracy: 0.8942 - val_loss: 0.3224 - val_accuracy: 0.8853\n",
            "Epoch 24/25\n",
            "960/960 [==============================] - 3s 4ms/step - loss: 0.2965 - accuracy: 0.8953 - val_loss: 0.3271 - val_accuracy: 0.8857\n",
            "Epoch 25/25\n",
            "960/960 [==============================] - 3s 4ms/step - loss: 0.2922 - accuracy: 0.8967 - val_loss: 0.3232 - val_accuracy: 0.8858\n"
          ]
        }
      ]
    },
    {
      "cell_type": "code",
      "source": [
        "# Generamos las métricas de generalización\n",
        "score = model12.evaluate(train_images, train_labels, verbose=0)\n",
        "print(f'Test loss: {score[0]} / Test accuracy: {score[1]}')\n",
        "\n",
        "# Visualizamos history\n",
        "# Pintamos history: Pérdida\n",
        "plt.plot(history12.history['val_loss'])\n",
        "plt.title('Validation loss history')\n",
        "plt.ylabel('Loss value')\n",
        "plt.xlabel('No. epoch')\n",
        "plt.show()\n",
        "\n",
        "# Pintamos history: Precisión\n",
        "plt.plot(history12.history['val_accuracy'])\n",
        "plt.title('Validation accuracy history')\n",
        "plt.ylabel('Accuracy value (%)')\n",
        "plt.xlabel('No. epoch')\n",
        "plt.show()"
      ],
      "metadata": {
        "colab": {
          "base_uri": "https://localhost:8080/",
          "height": 590
        },
        "id": "6OAGrvHEX91M",
        "outputId": "df79ce0b-a752-46bb-f4d8-bcb6a2d85ccf"
      },
      "id": "6OAGrvHEX91M",
      "execution_count": null,
      "outputs": [
        {
          "output_type": "stream",
          "name": "stdout",
          "text": [
            "Test loss: 0.29281550645828247 / Test accuracy: 0.8971499800682068\n"
          ]
        },
        {
          "output_type": "display_data",
          "data": {
            "text/plain": [
              "<Figure size 432x288 with 1 Axes>"
            ],
            "image/png": "[encoded data removed]"
          },
          "metadata": {
            "needs_background": "light"
          }
        },
        {
          "output_type": "display_data",
          "data": {
            "text/plain": [
              "<Figure size 432x288 with 1 Axes>"
            ],
            "image/png": "[encoded data removed]"
          },
          "metadata": {
            "needs_background": "light"
          }
        }
      ]
    },
    {
      "cell_type": "markdown",
      "source": [
        "A medida que van avanzando las épocas, se puede observar cómo va "
      ],
      "metadata": {
        "id": "vMyOTd_ewQyt"
      },
      "id": "vMyOTd_ewQyt"
    },
    {
      "cell_type": "markdown",
      "source": [
        "## CASO 1.3"
      ],
      "metadata": {
        "id": "a3xI5AKYaWz7"
      },
      "id": "a3xI5AKYaWz7"
    },
    {
      "cell_type": "code",
      "source": [
        "model13 = Sequential()\n",
        "model13.add(Conv2D(32, (5, 5), strides=(1, 1), activation='tanh', input_shape=(28,28,1)))\n",
        "model13.add(MaxPooling2D((2, 2)))\n",
        "\n",
        "model13.add(Conv2D(64, (5, 5), strides=(1, 1), activation='tanh'))\n",
        "model13.add(MaxPooling2D((2, 2)))\n",
        "\n",
        "model13.add(Flatten())\n",
        "model13.add(Dense(10, activation='softmax'))\n",
        "model13.summary()"
      ],
      "metadata": {
        "colab": {
          "base_uri": "https://localhost:8080/"
        },
        "id": "9jGjPhPfaaLS",
        "outputId": "69219b3b-f8d0-4436-d044-35ed571ed0cf"
      },
      "id": "9jGjPhPfaaLS",
      "execution_count": null,
      "outputs": [
        {
          "output_type": "stream",
          "name": "stdout",
          "text": [
            "Model: \"sequential_2\"\n",
            "_________________________________________________________________\n",
            " Layer (type)                Output Shape              Param #   \n",
            "=================================================================\n",
            " conv2d_4 (Conv2D)           (None, 24, 24, 32)        832       \n",
            "                                                                 \n",
            " max_pooling2d_4 (MaxPooling  (None, 12, 12, 32)       0         \n",
            " 2D)                                                             \n",
            "                                                                 \n",
            " conv2d_5 (Conv2D)           (None, 8, 8, 64)          51264     \n",
            "                                                                 \n",
            " max_pooling2d_5 (MaxPooling  (None, 4, 4, 64)         0         \n",
            " 2D)                                                             \n",
            "                                                                 \n",
            " flatten_2 (Flatten)         (None, 1024)              0         \n",
            "                                                                 \n",
            " dense_2 (Dense)             (None, 10)                10250     \n",
            "                                                                 \n",
            "=================================================================\n",
            "Total params: 62,346\n",
            "Trainable params: 62,346\n",
            "Non-trainable params: 0\n",
            "_________________________________________________________________\n"
          ]
        }
      ]
    },
    {
      "cell_type": "code",
      "source": [
        "model13.compile(loss=sparse_categorical_crossentropy,\n",
        "              optimizer='sgd',\n",
        "              metrics=['accuracy'])"
      ],
      "metadata": {
        "id": "eIBnkC5uafkt"
      },
      "id": "eIBnkC5uafkt",
      "execution_count": null,
      "outputs": []
    },
    {
      "cell_type": "code",
      "source": [
        "history13=model13.fit(train_images, train_labels,\n",
        "          batch_size=50,\n",
        "          epochs=5,\n",
        "          verbose=1,\n",
        "          validation_split=0.2)"
      ],
      "metadata": {
        "colab": {
          "base_uri": "https://localhost:8080/"
        },
        "id": "0pe3CQqjai2r",
        "outputId": "eae70462-564b-4f14-b233-a00d06433a01"
      },
      "id": "0pe3CQqjai2r",
      "execution_count": null,
      "outputs": [
        {
          "output_type": "stream",
          "name": "stdout",
          "text": [
            "Epoch 1/5\n",
            "960/960 [==============================] - 4s 4ms/step - loss: 0.9439 - accuracy: 0.6883 - val_loss: 0.6369 - val_accuracy: 0.7667\n",
            "Epoch 2/5\n",
            "960/960 [==============================] - 3s 4ms/step - loss: 0.5887 - accuracy: 0.7865 - val_loss: 0.5438 - val_accuracy: 0.8002\n",
            "Epoch 3/5\n",
            "960/960 [==============================] - 3s 3ms/step - loss: 0.5164 - accuracy: 0.8163 - val_loss: 0.4906 - val_accuracy: 0.8197\n",
            "Epoch 4/5\n",
            "960/960 [==============================] - 3s 4ms/step - loss: 0.4727 - accuracy: 0.8320 - val_loss: 0.4573 - val_accuracy: 0.8366\n",
            "Epoch 5/5\n",
            "960/960 [==============================] - 3s 3ms/step - loss: 0.4412 - accuracy: 0.8447 - val_loss: 0.4357 - val_accuracy: 0.8440\n"
          ]
        }
      ]
    },
    {
      "cell_type": "code",
      "source": [
        "# Generamos las métricas de generalización\n",
        "score = model13.evaluate(train_images, train_labels, verbose=0)\n",
        "print(f'Test loss: {score[0]} / Test accuracy: {score[1]}')\n",
        "\n",
        "# Visualizamos history\n",
        "# Pintamos history: Pérdida\n",
        "plt.plot(history13.history['val_loss'])\n",
        "plt.title('Validation loss history')\n",
        "plt.ylabel('Loss value')\n",
        "plt.xlabel('No. epoch')\n",
        "plt.show()\n",
        "\n",
        "# Pintamos history: Precisión\n",
        "plt.plot(history13.history['val_accuracy'])\n",
        "plt.title('Validation accuracy history')\n",
        "plt.ylabel('Accuracy value (%)')\n",
        "plt.xlabel('No. epoch')\n",
        "plt.show()"
      ],
      "metadata": {
        "colab": {
          "base_uri": "https://localhost:8080/",
          "height": 590
        },
        "id": "anK0aDtWajsE",
        "outputId": "d1688488-de1c-4437-86db-bc9d9147c1ea"
      },
      "id": "anK0aDtWajsE",
      "execution_count": null,
      "outputs": [
        {
          "output_type": "stream",
          "name": "stdout",
          "text": [
            "Test loss: 0.4292723834514618 / Test accuracy: 0.8489833474159241\n"
          ]
        },
        {
          "output_type": "display_data",
          "data": {
            "text/plain": [
              "<Figure size 432x288 with 1 Axes>"
            ],
            "image/png": "[encoded data removed]"
          },
          "metadata": {
            "needs_background": "light"
          }
        },
        {
          "output_type": "display_data",
          "data": {
            "text/plain": [
              "<Figure size 432x288 with 1 Axes>"
            ],
            "image/png": "[encoded data removed]"
          },
          "metadata": {
            "needs_background": "light"
          }
        }
      ]
    },
    {
      "cell_type": "markdown",
      "source": [
        "Comparando con el caso 1.1, es decir, con la función de activación ReLU, se puede apreciar que en la primera época, se alcanza más precisión y menos pérdida, con la función de activación tanh (caso 1.3). ReLU tiende a tener más función de pérdida a lo largo de las 5 épocas, sin embargo, a partir de la primera época, se aprecia más precisión. \n",
        "Por lo que al final de las 5 épocas, encontramos menos pérdida en tanh, pero más precisión en ReLU.\n",
        "Efectivamente, esto se puede comprobar gracias a las gráficas que se han realizado anteriormente en cada caso. \n",
        "Dependiendo de para qué estemos usando el modelo se utilizará una función de pérdida u otra. Por ejemplo, si estuviésemos tratando con vidas, lo que buscamos es ... \n",
        "\n"
      ],
      "metadata": {
        "id": "4Y8j-VnUtfIK"
      },
      "id": "4Y8j-VnUtfIK"
    },
    {
      "cell_type": "markdown",
      "source": [
        "## CASO 2.1"
      ],
      "metadata": {
        "id": "FyC-483CQvNV"
      },
      "id": "FyC-483CQvNV"
    },
    {
      "cell_type": "code",
      "source": [
        "model2 = Sequential()\n",
        "model2.add(Conv2D(64, (7, 7), strides=(1, 1), activation='relu', padding='same', input_shape=(28, 28, 1)))\n",
        "model2.add(MaxPooling2D((2, 2)))\n",
        "\n",
        "model2.add(Conv2D(128, (3, 3), strides=(1, 1), activation='relu', padding='same'))\n",
        "model2.add(MaxPooling2D((2, 2)))\n",
        "\n",
        "model2.add(Flatten())\n",
        "model2.add(Dense(65,activation='relu'))\n",
        "model2.add(Dense(10, activation='softmax'))\n",
        "model2.summary()"
      ],
      "metadata": {
        "colab": {
          "base_uri": "https://localhost:8080/"
        },
        "id": "DxOwQ2BSQ7zC",
        "outputId": "2a0d6695-a1f4-4499-9101-ea5c42bbcabb"
      },
      "id": "DxOwQ2BSQ7zC",
      "execution_count": null,
      "outputs": [
        {
          "output_type": "stream",
          "name": "stdout",
          "text": [
            "Model: \"sequential_3\"\n",
            "_________________________________________________________________\n",
            " Layer (type)                Output Shape              Param #   \n",
            "=================================================================\n",
            " conv2d_6 (Conv2D)           (None, 28, 28, 64)        3200      \n",
            "                                                                 \n",
            " max_pooling2d_6 (MaxPooling  (None, 14, 14, 64)       0         \n",
            " 2D)                                                             \n",
            "                                                                 \n",
            " conv2d_7 (Conv2D)           (None, 14, 14, 128)       73856     \n",
            "                                                                 \n",
            " max_pooling2d_7 (MaxPooling  (None, 7, 7, 128)        0         \n",
            " 2D)                                                             \n",
            "                                                                 \n",
            " flatten_3 (Flatten)         (None, 6272)              0         \n",
            "                                                                 \n",
            " dense_3 (Dense)             (None, 65)                407745    \n",
            "                                                                 \n",
            " dense_4 (Dense)             (None, 10)                660       \n",
            "                                                                 \n",
            "=================================================================\n",
            "Total params: 485,461\n",
            "Trainable params: 485,461\n",
            "Non-trainable params: 0\n",
            "_________________________________________________________________\n"
          ]
        }
      ]
    },
    {
      "cell_type": "code",
      "source": [
        "model2.compile(loss=sparse_categorical_crossentropy,\n",
        "              optimizer='sgd',\n",
        "              metrics=['accuracy'])"
      ],
      "metadata": {
        "id": "j9mATTvKXa5D"
      },
      "id": "j9mATTvKXa5D",
      "execution_count": null,
      "outputs": []
    },
    {
      "cell_type": "code",
      "source": [
        "history2=model2.fit(train_images, train_labels,\n",
        "          batch_size=50,\n",
        "          epochs=5,\n",
        "          verbose=1,\n",
        "          validation_split=0.2)"
      ],
      "metadata": {
        "colab": {
          "base_uri": "https://localhost:8080/"
        },
        "id": "9DJDlj-DXrOm",
        "outputId": "09220696-62c5-4434-f18b-61b8ee0f6d75"
      },
      "id": "9DJDlj-DXrOm",
      "execution_count": null,
      "outputs": [
        {
          "output_type": "stream",
          "name": "stdout",
          "text": [
            "Epoch 1/5\n",
            "960/960 [==============================] - 5s 5ms/step - loss: 0.9397 - accuracy: 0.6713 - val_loss: 0.6169 - val_accuracy: 0.7773\n",
            "Epoch 2/5\n",
            "960/960 [==============================] - 4s 5ms/step - loss: 0.5900 - accuracy: 0.7832 - val_loss: 0.5586 - val_accuracy: 0.7997\n",
            "Epoch 3/5\n",
            "960/960 [==============================] - 4s 5ms/step - loss: 0.5094 - accuracy: 0.8153 - val_loss: 0.4812 - val_accuracy: 0.8274\n",
            "Epoch 4/5\n",
            "960/960 [==============================] - 5s 5ms/step - loss: 0.4600 - accuracy: 0.8344 - val_loss: 0.4648 - val_accuracy: 0.8312\n",
            "Epoch 5/5\n",
            "960/960 [==============================] - 5s 5ms/step - loss: 0.4271 - accuracy: 0.8477 - val_loss: 0.4274 - val_accuracy: 0.8510\n"
          ]
        }
      ]
    },
    {
      "cell_type": "code",
      "source": [
        "# Generamos las métricas de generalización\n",
        "score = model2.evaluate(train_images, train_labels, verbose=0)\n",
        "print(f'Test loss: {score[0]} / Test accuracy: {score[1]}')\n",
        "\n",
        "# Visualizamos history\n",
        "# Pintamos history: Pérdida\n",
        "plt.plot(history2.history['val_loss'])\n",
        "plt.title('Validation loss history')\n",
        "plt.ylabel('Loss value')\n",
        "plt.xlabel('No. epoch')\n",
        "plt.show()\n",
        "\n",
        "# Pintamos history: Precisión\n",
        "plt.plot(history2.history['val_accuracy'])\n",
        "plt.title('Validation accuracy history')\n",
        "plt.ylabel('Accuracy value (%)')\n",
        "plt.xlabel('No. epoch')\n",
        "plt.show()"
      ],
      "metadata": {
        "colab": {
          "base_uri": "https://localhost:8080/",
          "height": 590
        },
        "id": "XIRqIvzVX--w",
        "outputId": "d59f80a4-5986-4afa-8e6f-40f59e2e878f"
      },
      "id": "XIRqIvzVX--w",
      "execution_count": null,
      "outputs": [
        {
          "output_type": "stream",
          "name": "stdout",
          "text": [
            "Test loss: 0.41321244835853577 / Test accuracy: 0.8551333546638489\n"
          ]
        },
        {
          "output_type": "display_data",
          "data": {
            "text/plain": [
              "<Figure size 432x288 with 1 Axes>"
            ],
            "image/png": "[encoded data removed]"
          },
          "metadata": {
            "needs_background": "light"
          }
        },
        {
          "output_type": "display_data",
          "data": {
            "text/plain": [
              "<Figure size 432x288 with 1 Axes>"
            ],
            "image/png": "[encoded data removed]"
          },
          "metadata": {
            "needs_background": "light"
          }
        }
      ]
    },
    {
      "cell_type": "markdown",
      "source": [
        "## CASO 2.2"
      ],
      "metadata": {
        "id": "1CzDLr1MQ9us"
      },
      "id": "1CzDLr1MQ9us"
    },
    {
      "cell_type": "code",
      "source": [
        "model22 = Sequential()\n",
        "model22.add(Conv2D(64, (7, 7), strides=(1, 1), activation='relu', padding='same', input_shape=(28, 28, 1)))\n",
        "model22.add(MaxPooling2D((2, 2)))\n",
        "\n",
        "model22.add(Conv2D(128, (3, 3), strides=(1, 1), activation='relu', padding='same'))\n",
        "model22.add(MaxPooling2D((2, 2)))\n",
        "\n",
        "model22.add(Flatten())\n",
        "model22.add(Dense(65,activation='relu'))\n",
        "model22.add(Dense(10, activation='softmax'))\n",
        "model22.summary()"
      ],
      "metadata": {
        "colab": {
          "base_uri": "https://localhost:8080/"
        },
        "id": "nXU3u785RAQ3",
        "outputId": "6fc36617-1627-42de-a8d2-00f956866aaf"
      },
      "id": "nXU3u785RAQ3",
      "execution_count": null,
      "outputs": [
        {
          "output_type": "stream",
          "name": "stdout",
          "text": [
            "Model: \"sequential_4\"\n",
            "_________________________________________________________________\n",
            " Layer (type)                Output Shape              Param #   \n",
            "=================================================================\n",
            " conv2d_8 (Conv2D)           (None, 28, 28, 64)        3200      \n",
            "                                                                 \n",
            " max_pooling2d_8 (MaxPooling  (None, 14, 14, 64)       0         \n",
            " 2D)                                                             \n",
            "                                                                 \n",
            " conv2d_9 (Conv2D)           (None, 14, 14, 128)       73856     \n",
            "                                                                 \n",
            " max_pooling2d_9 (MaxPooling  (None, 7, 7, 128)        0         \n",
            " 2D)                                                             \n",
            "                                                                 \n",
            " flatten_4 (Flatten)         (None, 6272)              0         \n",
            "                                                                 \n",
            " dense_5 (Dense)             (None, 65)                407745    \n",
            "                                                                 \n",
            " dense_6 (Dense)             (None, 10)                660       \n",
            "                                                                 \n",
            "=================================================================\n",
            "Total params: 485,461\n",
            "Trainable params: 485,461\n",
            "Non-trainable params: 0\n",
            "_________________________________________________________________\n"
          ]
        }
      ]
    },
    {
      "cell_type": "code",
      "source": [
        "model22.compile(loss=sparse_categorical_crossentropy,\n",
        "              optimizer='sgd',\n",
        "              metrics=['accuracy'])"
      ],
      "metadata": {
        "id": "-IKna7pBXcVu"
      },
      "id": "-IKna7pBXcVu",
      "execution_count": null,
      "outputs": []
    },
    {
      "cell_type": "code",
      "source": [
        "history22=model22.fit(train_images, train_labels,\n",
        "          batch_size=50,\n",
        "          epochs=25,\n",
        "          verbose=1,\n",
        "          validation_split=0.2)"
      ],
      "metadata": {
        "colab": {
          "base_uri": "https://localhost:8080/"
        },
        "id": "tnpLNIrEXslw",
        "outputId": "c4222332-6248-40c6-bf03-4010e529e2f6"
      },
      "id": "tnpLNIrEXslw",
      "execution_count": null,
      "outputs": [
        {
          "output_type": "stream",
          "name": "stdout",
          "text": [
            "Epoch 1/25\n",
            "960/960 [==============================] - 5s 5ms/step - loss: 0.9121 - accuracy: 0.6816 - val_loss: 0.6660 - val_accuracy: 0.7484\n",
            "Epoch 2/25\n",
            "960/960 [==============================] - 5s 5ms/step - loss: 0.5674 - accuracy: 0.7935 - val_loss: 0.5153 - val_accuracy: 0.8111\n",
            "Epoch 3/25\n",
            "960/960 [==============================] - 4s 5ms/step - loss: 0.4853 - accuracy: 0.8250 - val_loss: 0.4547 - val_accuracy: 0.8357\n",
            "Epoch 4/25\n",
            "960/960 [==============================] - 4s 5ms/step - loss: 0.4399 - accuracy: 0.8418 - val_loss: 0.4422 - val_accuracy: 0.8443\n",
            "Epoch 5/25\n",
            "960/960 [==============================] - 5s 5ms/step - loss: 0.4107 - accuracy: 0.8533 - val_loss: 0.4082 - val_accuracy: 0.8555\n",
            "Epoch 6/25\n",
            "960/960 [==============================] - 5s 5ms/step - loss: 0.3902 - accuracy: 0.8597 - val_loss: 0.3968 - val_accuracy: 0.8575\n",
            "Epoch 7/25\n",
            "960/960 [==============================] - 5s 5ms/step - loss: 0.3743 - accuracy: 0.8667 - val_loss: 0.3679 - val_accuracy: 0.8705\n",
            "Epoch 8/25\n",
            "960/960 [==============================] - 4s 5ms/step - loss: 0.3578 - accuracy: 0.8708 - val_loss: 0.3606 - val_accuracy: 0.8726\n",
            "Epoch 9/25\n",
            "960/960 [==============================] - 4s 5ms/step - loss: 0.3454 - accuracy: 0.8767 - val_loss: 0.3617 - val_accuracy: 0.8692\n",
            "Epoch 10/25\n",
            "960/960 [==============================] - 5s 5ms/step - loss: 0.3334 - accuracy: 0.8802 - val_loss: 0.3507 - val_accuracy: 0.8727\n",
            "Epoch 11/25\n",
            "960/960 [==============================] - 4s 5ms/step - loss: 0.3244 - accuracy: 0.8824 - val_loss: 0.3379 - val_accuracy: 0.8788\n",
            "Epoch 12/25\n",
            "960/960 [==============================] - 4s 5ms/step - loss: 0.3136 - accuracy: 0.8878 - val_loss: 0.3349 - val_accuracy: 0.8811\n",
            "Epoch 13/25\n",
            "960/960 [==============================] - 4s 5ms/step - loss: 0.3047 - accuracy: 0.8897 - val_loss: 0.3157 - val_accuracy: 0.8878\n",
            "Epoch 14/25\n",
            "960/960 [==============================] - 4s 5ms/step - loss: 0.2968 - accuracy: 0.8931 - val_loss: 0.3340 - val_accuracy: 0.8802\n",
            "Epoch 15/25\n",
            "960/960 [==============================] - 5s 5ms/step - loss: 0.2905 - accuracy: 0.8955 - val_loss: 0.3090 - val_accuracy: 0.8889\n",
            "Epoch 16/25\n",
            "960/960 [==============================] - 5s 5ms/step - loss: 0.2836 - accuracy: 0.8981 - val_loss: 0.2992 - val_accuracy: 0.8931\n",
            "Epoch 17/25\n",
            "960/960 [==============================] - 4s 5ms/step - loss: 0.2765 - accuracy: 0.9009 - val_loss: 0.3056 - val_accuracy: 0.8907\n",
            "Epoch 18/25\n",
            "960/960 [==============================] - 5s 5ms/step - loss: 0.2725 - accuracy: 0.9013 - val_loss: 0.2971 - val_accuracy: 0.8953\n",
            "Epoch 19/25\n",
            "960/960 [==============================] - 5s 5ms/step - loss: 0.2672 - accuracy: 0.9033 - val_loss: 0.2880 - val_accuracy: 0.8980\n",
            "Epoch 20/25\n",
            "960/960 [==============================] - 5s 5ms/step - loss: 0.2602 - accuracy: 0.9062 - val_loss: 0.2911 - val_accuracy: 0.8965\n",
            "Epoch 21/25\n",
            "960/960 [==============================] - 5s 5ms/step - loss: 0.2556 - accuracy: 0.9068 - val_loss: 0.3122 - val_accuracy: 0.8888\n",
            "Epoch 22/25\n",
            "960/960 [==============================] - 5s 5ms/step - loss: 0.2505 - accuracy: 0.9095 - val_loss: 0.2814 - val_accuracy: 0.9004\n",
            "Epoch 23/25\n",
            "960/960 [==============================] - 5s 5ms/step - loss: 0.2466 - accuracy: 0.9107 - val_loss: 0.2818 - val_accuracy: 0.9014\n",
            "Epoch 24/25\n",
            "960/960 [==============================] - 5s 5ms/step - loss: 0.2422 - accuracy: 0.9123 - val_loss: 0.2803 - val_accuracy: 0.8993\n",
            "Epoch 25/25\n",
            "960/960 [==============================] - 5s 5ms/step - loss: 0.2391 - accuracy: 0.9127 - val_loss: 0.2835 - val_accuracy: 0.8970\n"
          ]
        }
      ]
    },
    {
      "cell_type": "code",
      "source": [
        "# Generamos las métricas de generalización\n",
        "score = model22.evaluate(train_images, train_labels, verbose=0)\n",
        "print(f'Test loss: {score[0]} / Test accuracy: {score[1]}')\n",
        "\n",
        "# Visualizamos history\n",
        "# Pintamos history: Pérdida\n",
        "plt.plot(history22.history['val_loss'])\n",
        "plt.title('Validation loss history')\n",
        "plt.ylabel('Loss value')\n",
        "plt.xlabel('No. epoch')\n",
        "plt.show()\n",
        "\n",
        "# Pintamos history: Precisión\n",
        "plt.plot(history22.history['val_accuracy'])\n",
        "plt.title('Validation accuracy history')\n",
        "plt.ylabel('Accuracy value (%)')\n",
        "plt.xlabel('No. epoch')\n",
        "plt.show()"
      ],
      "metadata": {
        "colab": {
          "base_uri": "https://localhost:8080/",
          "height": 590
        },
        "id": "P-a1KU5xYAMG",
        "outputId": "d2b7f46c-9dcf-4368-913d-4a7cbb6e3807"
      },
      "id": "P-a1KU5xYAMG",
      "execution_count": null,
      "outputs": [
        {
          "output_type": "stream",
          "name": "stdout",
          "text": [
            "Test loss: 0.24917878210544586 / Test accuracy: 0.9085166454315186\n"
          ]
        },
        {
          "output_type": "display_data",
          "data": {
            "text/plain": [
              "<Figure size 432x288 with 1 Axes>"
            ],
            "image/png": "[encoded data removed]"
          },
          "metadata": {
            "needs_background": "light"
          }
        },
        {
          "output_type": "display_data",
          "data": {
            "text/plain": [
              "<Figure size 432x288 with 1 Axes>"
            ],
            "image/png": "[encoded data removed]"
          },
          "metadata": {
            "needs_background": "light"
          }
        }
      ]
    },
    {
      "cell_type": "markdown",
      "source": [
        "## CASO 3.1"
      ],
      "metadata": {
        "id": "ZXcw69NqQxPf"
      },
      "id": "ZXcw69NqQxPf"
    },
    {
      "cell_type": "code",
      "source": [
        "model3 = Sequential()\n",
        "model3.add(Conv2D(64, (7, 7), strides=(1, 1), activation='relu', padding='same', input_shape=(28,28,1)))\n",
        "model3.add(MaxPooling2D((2, 2)))\n",
        "\n",
        "model3.add(Conv2D(128, (3, 3), strides=(1, 1), activation='relu', padding='same'))\n",
        "model3.add(MaxPooling2D((2, 2)))\n",
        "\n",
        "model3.add(Flatten())\n",
        "model3.add(Dense(65,activation='relu'))\n",
        "model3.add(Dense(10, activation='softmax'))\n",
        "model3.summary()"
      ],
      "metadata": {
        "colab": {
          "base_uri": "https://localhost:8080/"
        },
        "id": "C3UR1JlpRKkE",
        "outputId": "268a63fc-43a2-46af-cda2-7b53da9c4d82"
      },
      "id": "C3UR1JlpRKkE",
      "execution_count": null,
      "outputs": [
        {
          "output_type": "stream",
          "name": "stdout",
          "text": [
            "Model: \"sequential_5\"\n",
            "_________________________________________________________________\n",
            " Layer (type)                Output Shape              Param #   \n",
            "=================================================================\n",
            " conv2d_10 (Conv2D)          (None, 28, 28, 64)        3200      \n",
            "                                                                 \n",
            " max_pooling2d_10 (MaxPoolin  (None, 14, 14, 64)       0         \n",
            " g2D)                                                            \n",
            "                                                                 \n",
            " conv2d_11 (Conv2D)          (None, 14, 14, 128)       73856     \n",
            "                                                                 \n",
            " max_pooling2d_11 (MaxPoolin  (None, 7, 7, 128)        0         \n",
            " g2D)                                                            \n",
            "                                                                 \n",
            " flatten_5 (Flatten)         (None, 6272)              0         \n",
            "                                                                 \n",
            " dense_7 (Dense)             (None, 65)                407745    \n",
            "                                                                 \n",
            " dense_8 (Dense)             (None, 10)                660       \n",
            "                                                                 \n",
            "=================================================================\n",
            "Total params: 485,461\n",
            "Trainable params: 485,461\n",
            "Non-trainable params: 0\n",
            "_________________________________________________________________\n"
          ]
        }
      ]
    },
    {
      "cell_type": "code",
      "source": [
        "model3.compile(loss=sparse_categorical_crossentropy,\n",
        "              optimizer='Adam',\n",
        "              metrics=['accuracy'])"
      ],
      "metadata": {
        "id": "96kkEeHaXeEL"
      },
      "id": "96kkEeHaXeEL",
      "execution_count": null,
      "outputs": []
    },
    {
      "cell_type": "code",
      "source": [
        "history3=model3.fit(train_images, train_labels,\n",
        "          batch_size=50,\n",
        "          epochs=5,\n",
        "          verbose=1,\n",
        "          validation_split=0.2)"
      ],
      "metadata": {
        "colab": {
          "base_uri": "https://localhost:8080/"
        },
        "id": "xZt_CUWHXt4g",
        "outputId": "c26232b5-96f2-4064-f2ea-d4f96beee1ac"
      },
      "id": "xZt_CUWHXt4g",
      "execution_count": null,
      "outputs": [
        {
          "output_type": "stream",
          "name": "stdout",
          "text": [
            "Epoch 1/5\n",
            "960/960 [==============================] - 5s 5ms/step - loss: 0.4627 - accuracy: 0.8336 - val_loss: 0.3333 - val_accuracy: 0.8805\n",
            "Epoch 2/5\n",
            "960/960 [==============================] - 5s 5ms/step - loss: 0.2973 - accuracy: 0.8933 - val_loss: 0.2944 - val_accuracy: 0.8945\n",
            "Epoch 3/5\n",
            "960/960 [==============================] - 5s 5ms/step - loss: 0.2522 - accuracy: 0.9076 - val_loss: 0.2724 - val_accuracy: 0.9002\n",
            "Epoch 4/5\n",
            "960/960 [==============================] - 5s 5ms/step - loss: 0.2221 - accuracy: 0.9172 - val_loss: 0.2536 - val_accuracy: 0.9072\n",
            "Epoch 5/5\n",
            "960/960 [==============================] - 5s 5ms/step - loss: 0.1954 - accuracy: 0.9285 - val_loss: 0.2426 - val_accuracy: 0.9135\n"
          ]
        }
      ]
    },
    {
      "cell_type": "code",
      "source": [
        "# Generamos las métricas de generalización\n",
        "score = model3.evaluate(train_images, train_labels, verbose=0)\n",
        "print(f'Test loss: {score[0]} / Test accuracy: {score[1]}')\n",
        "\n",
        "# Visualizamos history\n",
        "# Pintamos history: Pérdida\n",
        "plt.plot(history3.history['val_loss'])\n",
        "plt.title('Validation loss history')\n",
        "plt.ylabel('Loss value')\n",
        "plt.xlabel('No. epoch')\n",
        "plt.show()\n",
        "\n",
        "# Pintamos history: Precisión\n",
        "plt.plot(history3.history['val_accuracy'])\n",
        "plt.title('Validation accuracy history')\n",
        "plt.ylabel('Accuracy value (%)')\n",
        "plt.xlabel('No. epoch')\n",
        "plt.show()"
      ],
      "metadata": {
        "colab": {
          "base_uri": "https://localhost:8080/",
          "height": 590
        },
        "id": "OkfeqK4UYBb-",
        "outputId": "1e59338f-bc8b-4ad8-be2f-64de71a945f5"
      },
      "id": "OkfeqK4UYBb-",
      "execution_count": null,
      "outputs": [
        {
          "output_type": "stream",
          "name": "stdout",
          "text": [
            "Test loss: 0.17796774208545685 / Test accuracy: 0.9363166689872742\n"
          ]
        },
        {
          "output_type": "display_data",
          "data": {
            "text/plain": [
              "<Figure size 432x288 with 1 Axes>"
            ],
            "image/png": "[encoded data removed]"
          },
          "metadata": {
            "needs_background": "light"
          }
        },
        {
          "output_type": "display_data",
          "data": {
            "text/plain": [
              "<Figure size 432x288 with 1 Axes>"
            ],
            "image/png": "[encoded data removed]"
          },
          "metadata": {
            "needs_background": "light"
          }
        }
      ]
    },
    {
      "cell_type": "markdown",
      "source": [
        "## CASO 3.2"
      ],
      "metadata": {
        "id": "wrVNiMbqRMDJ"
      },
      "id": "wrVNiMbqRMDJ"
    },
    {
      "cell_type": "code",
      "source": [
        "model32 = Sequential()\n",
        "model32.add(Conv2D(64, (7, 7), strides=(1, 1), activation='relu', padding='same', input_shape=(28,28,1)))\n",
        "model32.add(MaxPooling2D((2, 2)))\n",
        "\n",
        "model32.add(Conv2D(128, (3, 3), strides=(1, 1), activation='relu', padding='same'))\n",
        "model32.add(MaxPooling2D((2, 2)))\n",
        "\n",
        "model32.add(Flatten())\n",
        "model32.add(Dense(65,activation='relu'))\n",
        "model32.add(Dense(10, activation='softmax'))\n",
        "model32.summary()"
      ],
      "metadata": {
        "colab": {
          "base_uri": "https://localhost:8080/"
        },
        "id": "ooRfDyc4RN-U",
        "outputId": "6de40524-ae8a-4c4e-d71e-22352cd5f861"
      },
      "id": "ooRfDyc4RN-U",
      "execution_count": null,
      "outputs": [
        {
          "output_type": "stream",
          "name": "stdout",
          "text": [
            "Model: \"sequential_6\"\n",
            "_________________________________________________________________\n",
            " Layer (type)                Output Shape              Param #   \n",
            "=================================================================\n",
            " conv2d_12 (Conv2D)          (None, 28, 28, 64)        3200      \n",
            "                                                                 \n",
            " max_pooling2d_12 (MaxPoolin  (None, 14, 14, 64)       0         \n",
            " g2D)                                                            \n",
            "                                                                 \n",
            " conv2d_13 (Conv2D)          (None, 14, 14, 128)       73856     \n",
            "                                                                 \n",
            " max_pooling2d_13 (MaxPoolin  (None, 7, 7, 128)        0         \n",
            " g2D)                                                            \n",
            "                                                                 \n",
            " flatten_6 (Flatten)         (None, 6272)              0         \n",
            "                                                                 \n",
            " dense_9 (Dense)             (None, 65)                407745    \n",
            "                                                                 \n",
            " dense_10 (Dense)            (None, 10)                660       \n",
            "                                                                 \n",
            "=================================================================\n",
            "Total params: 485,461\n",
            "Trainable params: 485,461\n",
            "Non-trainable params: 0\n",
            "_________________________________________________________________\n"
          ]
        }
      ]
    },
    {
      "cell_type": "code",
      "source": [
        "model32.compile(loss=sparse_categorical_crossentropy,\n",
        "              optimizer='Adam',\n",
        "              metrics=['accuracy'])"
      ],
      "metadata": {
        "id": "-c_oNl7aXfXC"
      },
      "id": "-c_oNl7aXfXC",
      "execution_count": null,
      "outputs": []
    },
    {
      "cell_type": "code",
      "source": [
        "history32=model32.fit(train_images, train_labels,\n",
        "          batch_size=50,\n",
        "          epochs=25,\n",
        "          verbose=1,\n",
        "          validation_split=0.2)"
      ],
      "metadata": {
        "colab": {
          "base_uri": "https://localhost:8080/"
        },
        "id": "ZegZ41ytXvOc",
        "outputId": "a1da697d-ac8a-47cb-89d5-56f93459a364"
      },
      "id": "ZegZ41ytXvOc",
      "execution_count": null,
      "outputs": [
        {
          "output_type": "stream",
          "name": "stdout",
          "text": [
            "Epoch 1/25\n",
            "960/960 [==============================] - 5s 5ms/step - loss: 0.4569 - accuracy: 0.8328 - val_loss: 0.3823 - val_accuracy: 0.8642\n",
            "Epoch 2/25\n",
            "960/960 [==============================] - 5s 5ms/step - loss: 0.2983 - accuracy: 0.8922 - val_loss: 0.3051 - val_accuracy: 0.8874\n",
            "Epoch 3/25\n",
            "960/960 [==============================] - 5s 5ms/step - loss: 0.2545 - accuracy: 0.9061 - val_loss: 0.2560 - val_accuracy: 0.9052\n",
            "Epoch 4/25\n",
            "960/960 [==============================] - 5s 5ms/step - loss: 0.2231 - accuracy: 0.9173 - val_loss: 0.2441 - val_accuracy: 0.9122\n",
            "Epoch 5/25\n",
            "960/960 [==============================] - 5s 5ms/step - loss: 0.2007 - accuracy: 0.9256 - val_loss: 0.2523 - val_accuracy: 0.9104\n",
            "Epoch 6/25\n",
            "960/960 [==============================] - 5s 5ms/step - loss: 0.1770 - accuracy: 0.9340 - val_loss: 0.2522 - val_accuracy: 0.9072\n",
            "Epoch 7/25\n",
            "960/960 [==============================] - 5s 5ms/step - loss: 0.1561 - accuracy: 0.9424 - val_loss: 0.2482 - val_accuracy: 0.9156\n",
            "Epoch 8/25\n",
            "960/960 [==============================] - 5s 5ms/step - loss: 0.1387 - accuracy: 0.9475 - val_loss: 0.2530 - val_accuracy: 0.9126\n",
            "Epoch 9/25\n",
            "960/960 [==============================] - 5s 5ms/step - loss: 0.1194 - accuracy: 0.9554 - val_loss: 0.2622 - val_accuracy: 0.9131\n",
            "Epoch 10/25\n",
            "960/960 [==============================] - 5s 5ms/step - loss: 0.1048 - accuracy: 0.9608 - val_loss: 0.2786 - val_accuracy: 0.9123\n",
            "Epoch 11/25\n",
            "960/960 [==============================] - 5s 5ms/step - loss: 0.0910 - accuracy: 0.9666 - val_loss: 0.2927 - val_accuracy: 0.9172\n",
            "Epoch 12/25\n",
            "960/960 [==============================] - 5s 5ms/step - loss: 0.0790 - accuracy: 0.9710 - val_loss: 0.2951 - val_accuracy: 0.9163\n",
            "Epoch 13/25\n",
            "960/960 [==============================] - 5s 5ms/step - loss: 0.0694 - accuracy: 0.9737 - val_loss: 0.3206 - val_accuracy: 0.9147\n",
            "Epoch 14/25\n",
            "960/960 [==============================] - 5s 5ms/step - loss: 0.0632 - accuracy: 0.9771 - val_loss: 0.3280 - val_accuracy: 0.9135\n",
            "Epoch 15/25\n",
            "960/960 [==============================] - 5s 5ms/step - loss: 0.0571 - accuracy: 0.9792 - val_loss: 0.3528 - val_accuracy: 0.9158\n",
            "Epoch 16/25\n",
            "960/960 [==============================] - 5s 5ms/step - loss: 0.0465 - accuracy: 0.9822 - val_loss: 0.3800 - val_accuracy: 0.9143\n",
            "Epoch 17/25\n",
            "960/960 [==============================] - 5s 5ms/step - loss: 0.0490 - accuracy: 0.9820 - val_loss: 0.3942 - val_accuracy: 0.9168\n",
            "Epoch 18/25\n",
            "960/960 [==============================] - 5s 5ms/step - loss: 0.0376 - accuracy: 0.9860 - val_loss: 0.4207 - val_accuracy: 0.9132\n",
            "Epoch 19/25\n",
            "960/960 [==============================] - 5s 5ms/step - loss: 0.0346 - accuracy: 0.9877 - val_loss: 0.4494 - val_accuracy: 0.9114\n",
            "Epoch 20/25\n",
            "960/960 [==============================] - 5s 5ms/step - loss: 0.0353 - accuracy: 0.9867 - val_loss: 0.4901 - val_accuracy: 0.9138\n",
            "Epoch 21/25\n",
            "960/960 [==============================] - 5s 5ms/step - loss: 0.0314 - accuracy: 0.9886 - val_loss: 0.4726 - val_accuracy: 0.9124\n",
            "Epoch 22/25\n",
            "960/960 [==============================] - 5s 5ms/step - loss: 0.0296 - accuracy: 0.9890 - val_loss: 0.5196 - val_accuracy: 0.9111\n",
            "Epoch 23/25\n",
            "960/960 [==============================] - 5s 5ms/step - loss: 0.0276 - accuracy: 0.9901 - val_loss: 0.4986 - val_accuracy: 0.9102\n",
            "Epoch 24/25\n",
            "960/960 [==============================] - 5s 5ms/step - loss: 0.0263 - accuracy: 0.9904 - val_loss: 0.5217 - val_accuracy: 0.9132\n",
            "Epoch 25/25\n",
            "960/960 [==============================] - 5s 5ms/step - loss: 0.0260 - accuracy: 0.9904 - val_loss: 0.5834 - val_accuracy: 0.9114\n"
          ]
        }
      ]
    },
    {
      "cell_type": "code",
      "source": [
        "# Generamos las métricas de generalización\n",
        "score = model32.evaluate(train_images, train_labels, verbose=0)\n",
        "print(f'Test loss: {score[0]} / Test accuracy: {score[1]}')\n",
        "\n",
        "# Visualizamos history\n",
        "# Pintamos history: Pérdida\n",
        "plt.plot(history32.history['val_loss'])\n",
        "plt.title('Validation loss history')\n",
        "plt.ylabel('Loss value')\n",
        "plt.xlabel('No. epoch')\n",
        "plt.show()\n",
        "\n",
        "# Pintamos history: Precisión\n",
        "plt.plot(history32.history['val_accuracy'])\n",
        "plt.title('Validation accuracy history')\n",
        "plt.ylabel('Accuracy value (%)')\n",
        "plt.xlabel('No. epoch')\n",
        "plt.show()"
      ],
      "metadata": {
        "colab": {
          "base_uri": "https://localhost:8080/",
          "height": 590
        },
        "id": "1Mu-SC5mYCol",
        "outputId": "10459cd5-6f26-458a-a1da-7601ef3ecb40"
      },
      "id": "1Mu-SC5mYCol",
      "execution_count": null,
      "outputs": [
        {
          "output_type": "stream",
          "name": "stdout",
          "text": [
            "Test loss: 0.13235265016555786 / Test accuracy: 0.9768000245094299\n"
          ]
        },
        {
          "output_type": "display_data",
          "data": {
            "text/plain": [
              "<Figure size 432x288 with 1 Axes>"
            ],
            "image/png": "[encoded data removed]"
          },
          "metadata": {
            "needs_background": "light"
          }
        },
        {
          "output_type": "display_data",
          "data": {
            "text/plain": [
              "<Figure size 432x288 with 1 Axes>"
            ],
            "image/png": "[encoded data removed]"
          },
          "metadata": {
            "needs_background": "light"
          }
        }
      ]
    },
    {
      "cell_type": "markdown",
      "source": [
        "# ANÁLISIS MODEL.SUMMARY()\n"
      ],
      "metadata": {
        "id": "Uw8frjuwK1Lp"
      },
      "id": "Uw8frjuwK1Lp"
    },
    {
      "cell_type": "markdown",
      "source": [
        "Se analizarán los 3 casos teniendo en cuenta que el stride que se utiliza es 1.\n",
        "\n",
        "  ## CASO 1\n",
        "  **1ª capa convolucional:**\n",
        "\n",
        "  - Conv2d:\n",
        "\n",
        "      (5x5 de matriz W + 1 del bias) x 32 filtros = *832 parámetros*\n",
        "\n",
        "  - MaxPooling2D:\n",
        "\n",
        "      0, no se hace uso de parámetros.\n",
        "\n",
        "  **2ª capa convolucional**\n",
        "\n",
        "  - Conv2D_1:\n",
        "\n",
        "      (5x5 de matriz W x 32 filtros anteriores + 1 del bias) x 64 filtros = *51 264 parámetros*\n",
        "\n",
        "  - MaxPooling2D_1:\n",
        "\n",
        "      0, no se hace uso de parámetros.\n",
        "\n",
        "  - Flatten\n",
        "\n",
        "      0, no se hace uso de parámetros.\n",
        "  - Dense\n",
        "\n",
        "      El número de parámteros de la capa soft-max es 10 x 1024 + 10 = *10250 parámetros*\n",
        "\n",
        "**Parámetros totales**\n",
        "\n",
        "  *832* de la 1ª capa convolucional + *51264* de la 2ª capa convolucional + *10250* de la capa dense = *62,346* parámetros entrenables. \n",
        "\n",
        "\n",
        "  ## CASO 2\n",
        "\n",
        "  **1ª capa convolucional:**\n",
        "\n",
        "  - Conv2d: \n",
        "    \n",
        "      (7x7 de matriz W + 1 del bias) x 64 filtros = *3200 parámetros*\n",
        "\n",
        "  - MaxPooling2D: \n",
        "\n",
        "      0, no se hace uso de parámetros.\n",
        "\n",
        "  **2ª capa convolucional**\n",
        "\n",
        "  - Conv2d: \n",
        "\n",
        "      (3x3 de matriz W x 64 filtros anteriores + 1 del bias) x 128 filtros = *73 856 parámetros.*\n",
        "\n",
        "  - MaxPooling2D_1:\n",
        "\n",
        "      0, no se hace uso de parámetros.\n",
        "\n",
        "  - Flatten\n",
        "\n",
        "      0, no se hace uso de parámetros.\n",
        "\n",
        "  - Dense_1\n",
        "\n",
        "      El número de parámetros de la capa ReLU es 64 x 32 x 65 del filtro + 65 del bias = *133 185 parámetros.**\n",
        "\n",
        "  - Dense_2\n",
        "\n",
        "      El número de parámetros de la capa soft-max es 10 x 65 + 10 = *660 parámetros.*\n",
        "\n",
        "\n",
        "\n",
        "  **Parámetros totales**\n",
        "\n",
        "  *3200* de la 1ª capa convolucional + *73856* de la 2ª capa convolucional + *133 185* de la 1ª capa dense + 660 de la 2ª capa dense = *210 901 parámetros.*\n",
        "\n",
        "\n",
        "  ## CASO 3\n",
        "\n",
        "  **1ª capa convolucional:**\n",
        "\n",
        "  - Conv2d: \n",
        "    \n",
        "      (7x7 de matriz W + 1 del bias) x 64 filtros = *3200 parámetros*\n",
        "\n",
        "  - MaxPooling2D: \n",
        "\n",
        "      0, no se hace uso de parámetros.\n",
        "\n",
        "**2ª capa convolucional**\n",
        "\n",
        "  - Conv2d: \n",
        "\n",
        "      (3x3 de matriz W x 64 filtros anteriores + 1 del bias) x 128 filtros = *73 856 parámetros.*\n",
        "\n",
        "  - MaxPooling2D_1:\n",
        "\n",
        "      0, no se hace uso de parámetros.\n",
        "\n",
        "  - Flatten\n",
        "\n",
        "      0, no se hace uso de parámetros.\n",
        "\n",
        "  - Dense_1\n",
        "\n",
        "      El número de parámetros de la capa ReLU es 64 x 32 x 65 del filtro + 65 del bias = *133 185 parámetros.**\n",
        "\n",
        "  - Dense_2\n",
        "\n",
        "      El número de parámetros de la capa soft-max es 10 x 65 + 10 = *660 parámetros.*\n",
        "\n",
        "**Parámetros totales**\n",
        "\n",
        "  *3200* de la 1ª capa convolucional + *73856* de la 2ª capa convolucional + *133 185* de la 1ª capa dense + 660 de la 2ª capa dense = *210 901 parámetros.*"
      ],
      "metadata": {
        "id": "olboWqKd1UaA"
      },
      "id": "olboWqKd1UaA"
    },
    {
      "cell_type": "markdown",
      "source": [
        "# ANÁLISIS RESULTADOS"
      ],
      "metadata": {
        "id": "RIFEUCxQROe8"
      },
      "id": "RIFEUCxQROe8"
    },
    {
      "cell_type": "code",
      "source": [
        "predictions = model.predict(test_images)\n",
        "predictions2 = model2.predict(test_images)\n",
        "predictions3 = model3.predict(test_images)"
      ],
      "metadata": {
        "colab": {
          "base_uri": "https://localhost:8080/"
        },
        "id": "zMAkWPnzhFEV",
        "outputId": "c210415f-657d-4690-88e4-9b0597687a9b"
      },
      "id": "zMAkWPnzhFEV",
      "execution_count": null,
      "outputs": [
        {
          "output_type": "stream",
          "name": "stdout",
          "text": [
            "313/313 [==============================] - 1s 2ms/step\n",
            "313/313 [==============================] - 1s 2ms/step\n",
            "313/313 [==============================] - 1s 2ms/step\n"
          ]
        }
      ]
    },
    {
      "cell_type": "code",
      "source": [
        "def plot_image(i, predictions_array, true_label, img):\n",
        "  predictions_array, true_label, img = predictions_array, true_label[i], img[i]\n",
        "  plt.grid(False)\n",
        "  plt.xticks([])\n",
        "  plt.yticks([])\n",
        "\n",
        "  plt.imshow(img, cmap=plt.cm.binary)    \n",
        "\n",
        "  predicted_label = np.argmax(predictions_array)\n",
        "  if predicted_label.all() == true_label.all():\n",
        "    color = 'blue'\n",
        "  else:\n",
        "    color = 'red'\n",
        "\n",
        "  plt.xlabel(\"{} {:2.0f}% ({})\".format(predicted_label,\n",
        "                                100*np.max(predictions_array),\n",
        "                                true_label),\n",
        "                                color=color)\n",
        "\n",
        "def plot_value_array(i, predictions_array, true_label):\n",
        "  predictions_array, true_label = predictions_array, true_label[i]\n",
        "  plt.grid(False)\n",
        "  plt.xticks(range(10))\n",
        "  plt.yticks([])\n",
        "  thisplot = plt.bar(range(10), predictions_array, color=\"#00FF00\")\n",
        "  plt.ylim([0, 1])\n",
        "  predicted_label = np.argmax(predictions_array)\n",
        "\n",
        "  thisplot[predicted_label].set_color('red')\n",
        "  thisplot[true_label].set_color('black')"
      ],
      "metadata": {
        "id": "DR-8UWaYRcln"
      },
      "id": "DR-8UWaYRcln",
      "execution_count": null,
      "outputs": []
    },
    {
      "cell_type": "code",
      "source": [
        "test_labels=test_labels.reshape(10000,)"
      ],
      "metadata": {
        "id": "hENHZay3msPP"
      },
      "id": "hENHZay3msPP",
      "execution_count": null,
      "outputs": []
    },
    {
      "cell_type": "code",
      "source": [
        "i = 0\n",
        "for j in range (0,13):\n",
        "  plt.figure(figsize=(6,3))\n",
        "  plt.subplot(1,2,1)\n",
        "  plot_image(j, predictions[j], test_labels, test_images.reshape(10000,28,28))\n",
        "  plt.subplot(1,2,2)\n",
        "  plot_value_array(j, predictions[j], test_labels)\n",
        "  plt.show()"
      ],
      "metadata": {
        "colab": {
          "base_uri": "https://localhost:8080/",
          "height": 1000
        },
        "id": "m0nBAlkVf_Eb",
        "outputId": "fd6f77b6-c724-486d-b38b-334729ebab48"
      },
      "id": "m0nBAlkVf_Eb",
      "execution_count": null,
      "outputs": [
        {
          "output_type": "display_data",
          "data": {
            "text/plain": [
              "<Figure size 432x216 with 2 Axes>"
            ],
            "image/png": "[encoded data removed]"
          },
          "metadata": {
            "needs_background": "light"
          }
        },
        {
          "output_type": "display_data",
          "data": {
            "text/plain": [
              "<Figure size 432x216 with 2 Axes>"
            ],
            "image/png": "[encoded data removed]"
          },
          "metadata": {
            "needs_background": "light"
          }
        },
        {
          "output_type": "display_data",
          "data": {
            "text/plain": [
              "<Figure size 432x216 with 2 Axes>"
            ],
            "image/png": "[encoded data removed]"
          },
          "metadata": {
            "needs_background": "light"
          }
        },
        {
          "output_type": "display_data",
          "data": {
            "text/plain": [
              "<Figure size 432x216 with 2 Axes>"
            ],
            "image/png": "[encoded data removed]"
          },
          "metadata": {
            "needs_background": "light"
          }
        },
        {
          "output_type": "display_data",
          "data": {
            "text/plain": [
              "<Figure size 432x216 with 2 Axes>"
            ],
            "image/png": "[encoded data removed]"
          },
          "metadata": {
            "needs_background": "light"
          }
        },
        {
          "output_type": "display_data",
          "data": {
            "text/plain": [
              "<Figure size 432x216 with 2 Axes>"
            ],
            "image/png": "[encoded data removed]"
          },
          "metadata": {
            "needs_background": "light"
          }
        },
        {
          "output_type": "display_data",
          "data": {
            "text/plain": [
              "<Figure size 432x216 with 2 Axes>"
            ],
            "image/png": "[encoded data removed]"
          },
          "metadata": {
            "needs_background": "light"
          }
        },
        {
          "output_type": "display_data",
          "data": {
            "text/plain": [
              "<Figure size 432x216 with 2 Axes>"
            ],
            "image/png": "[encoded data removed]"
          },
          "metadata": {
            "needs_background": "light"
          }
        },
        {
          "output_type": "display_data",
          "data": {
            "text/plain": [
              "<Figure size 432x216 with 2 Axes>"
            ],
            "image/png": "[encoded data removed]"
          },
          "metadata": {
            "needs_background": "light"
          }
        },
        {
          "output_type": "display_data",
          "data": {
            "text/plain": [
              "<Figure size 432x216 with 2 Axes>"
            ],
            "image/png": "[encoded data removed]"
          },
          "metadata": {
            "needs_background": "light"
          }
        },
        {
          "output_type": "display_data",
          "data": {
            "text/plain": [
              "<Figure size 432x216 with 2 Axes>"
            ],
            "image/png": "[encoded data removed]"
          },
          "metadata": {
            "needs_background": "light"
          }
        },
        {
          "output_type": "display_data",
          "data": {
            "text/plain": [
              "<Figure size 432x216 with 2 Axes>"
            ],
            "image/png": "[encoded data removed]"
          },
          "metadata": {
            "needs_background": "light"
          }
        },
        {
          "output_type": "display_data",
          "data": {
            "text/plain": [
              "<Figure size 432x216 with 2 Axes>"
            ],
            "image/png": "[encoded data removed]"
          },
          "metadata": {
            "needs_background": "light"
          }
        }
      ]
    },
    {
      "cell_type": "code",
      "source": [
        "for j in range (0,13):\n",
        "  plt.figure(figsize=(6,3))\n",
        "  plt.subplot(1,2,1)\n",
        "  plot_image(j, predictions2[j], test_labels, test_images.reshape(10000,28,28))\n",
        "  plt.subplot(1,2,2)\n",
        "  plot_value_array(j, predictions2[j], test_labels)\n",
        "  plt.show()"
      ],
      "metadata": {
        "colab": {
          "base_uri": "https://localhost:8080/",
          "height": 1000
        },
        "id": "T4a0gGL1g8mp",
        "outputId": "1f6c86c6-7142-4714-cd33-8c2bac9cb241"
      },
      "id": "T4a0gGL1g8mp",
      "execution_count": null,
      "outputs": [
        {
          "output_type": "display_data",
          "data": {
            "text/plain": [
              "<Figure size 432x216 with 2 Axes>"
            ],
            "image/png": "[encoded data removed]"
          },
          "metadata": {
            "needs_background": "light"
          }
        },
        {
          "output_type": "display_data",
          "data": {
            "text/plain": [
              "<Figure size 432x216 with 2 Axes>"
            ],
            "image/png": "[encoded data removed]"
          },
          "metadata": {
            "needs_background": "light"
          }
        },
        {
          "output_type": "display_data",
          "data": {
            "text/plain": [
              "<Figure size 432x216 with 2 Axes>"
            ],
            "image/png": "[encoded data removed]"
          },
          "metadata": {
            "needs_background": "light"
          }
        },
        {
          "output_type": "display_data",
          "data": {
            "text/plain": [
              "<Figure size 432x216 with 2 Axes>"
            ],
            "image/png": "[encoded data removed]"
          },
          "metadata": {
            "needs_background": "light"
          }
        },
        {
          "output_type": "display_data",
          "data": {
            "text/plain": [
              "<Figure size 432x216 with 2 Axes>"
            ],
            "image/png": "[encoded data removed]"
          },
          "metadata": {
            "needs_background": "light"
          }
        },
        {
          "output_type": "display_data",
          "data": {
            "text/plain": [
              "<Figure size 432x216 with 2 Axes>"
            ],
            "image/png": "[encoded data removed]"
          },
          "metadata": {
            "needs_background": "light"
          }
        },
        {
          "output_type": "display_data",
          "data": {
            "text/plain": [
              "<Figure size 432x216 with 2 Axes>"
            ],
            "image/png": "[encoded data removed]"
          },
          "metadata": {
            "needs_background": "light"
          }
        },
        {
          "output_type": "display_data",
          "data": {
            "text/plain": [
              "<Figure size 432x216 with 2 Axes>"
            ],
            "image/png": "[encoded data removed]"
          },
          "metadata": {
            "needs_background": "light"
          }
        },
        {
          "output_type": "display_data",
          "data": {
            "text/plain": [
              "<Figure size 432x216 with 2 Axes>"
            ],
            "image/png": "[encoded data removed]"
          },
          "metadata": {
            "needs_background": "light"
          }
        },
        {
          "output_type": "display_data",
          "data": {
            "text/plain": [
              "<Figure size 432x216 with 2 Axes>"
            ],
            "image/png": "[encoded data removed]"
          },
          "metadata": {
            "needs_background": "light"
          }
        },
        {
          "output_type": "display_data",
          "data": {
            "text/plain": [
              "<Figure size 432x216 with 2 Axes>"
            ],
            "image/png": "[encoded data removed]"
          },
          "metadata": {
            "needs_background": "light"
          }
        },
        {
          "output_type": "display_data",
          "data": {
            "text/plain": [
              "<Figure size 432x216 with 2 Axes>"
            ],
            "image/png": "[encoded data removed]"
          },
          "metadata": {
            "needs_background": "light"
          }
        },
        {
          "output_type": "display_data",
          "data": {
            "text/plain": [
              "<Figure size 432x216 with 2 Axes>"
            ],
            "image/png": "[encoded data removed]"
          },
          "metadata": {
            "needs_background": "light"
          }
        }
      ]
    },
    {
      "cell_type": "code",
      "source": [
        "for j in range (0,13):\n",
        "  plt.figure(figsize=(6,3))\n",
        "  plt.subplot(1,2,1)\n",
        "  plot_image(j, predictions3[j], test_labels, test_images.reshape(10000,28,28))\n",
        "  plt.subplot(1,2,2)\n",
        "  plot_value_array(j, predictions3[j], test_labels)\n",
        "  plt.show()"
      ],
      "metadata": {
        "colab": {
          "base_uri": "https://localhost:8080/",
          "height": 1000
        },
        "id": "9otaTt7ug-pd",
        "outputId": "a7f22ef4-80e7-4a55-ccdf-a5272d8af985"
      },
      "id": "9otaTt7ug-pd",
      "execution_count": null,
      "outputs": [
        {
          "output_type": "display_data",
          "data": {
            "text/plain": [
              "<Figure size 432x216 with 2 Axes>"
            ],
            "image/png": "[encoded data removed]"
          },
          "metadata": {
            "needs_background": "light"
          }
        },
        {
          "output_type": "display_data",
          "data": {
            "text/plain": [
              "<Figure size 432x216 with 2 Axes>"
            ],
            "image/png": "[encoded data removed]"
          },
          "metadata": {
            "needs_background": "light"
          }
        },
        {
          "output_type": "display_data",
          "data": {
            "text/plain": [
              "<Figure size 432x216 with 2 Axes>"
            ],
            "image/png": "[encoded data removed]"
          },
          "metadata": {
            "needs_background": "light"
          }
        },
        {
          "output_type": "display_data",
          "data": {
            "text/plain": [
              "<Figure size 432x216 with 2 Axes>"
            ],
            "image/png": "[encoded data removed]"
          },
          "metadata": {
            "needs_background": "light"
          }
        },
        {
          "output_type": "display_data",
          "data": {
            "text/plain": [
              "<Figure size 432x216 with 2 Axes>"
            ],
            "image/png": "[encoded data removed]"
          },
          "metadata": {
            "needs_background": "light"
          }
        },
        {
          "output_type": "display_data",
          "data": {
            "text/plain": [
              "<Figure size 432x216 with 2 Axes>"
            ],
            "image/png": "[encoded data removed]"
          },
          "metadata": {
            "needs_background": "light"
          }
        },
        {
          "output_type": "display_data",
          "data": {
            "text/plain": [
              "<Figure size 432x216 with 2 Axes>"
            ],
            "image/png": "[encoded data removed]"
          },
          "metadata": {
            "needs_background": "light"
          }
        },
        {
          "output_type": "display_data",
          "data": {
            "text/plain": [
              "<Figure size 432x216 with 2 Axes>"
            ],
            "image/png": "[encoded data removed]"
          },
          "metadata": {
            "needs_background": "light"
          }
        },
        {
          "output_type": "display_data",
          "data": {
            "text/plain": [
              "<Figure size 432x216 with 2 Axes>"
            ],
            "image/png": "[encoded data removed]"
          },
          "metadata": {
            "needs_background": "light"
          }
        },
        {
          "output_type": "display_data",
          "data": {
            "text/plain": [
              "<Figure size 432x216 with 2 Axes>"
            ],
            "image/png": "[encoded data removed]"
          },
          "metadata": {
            "needs_background": "light"
          }
        },
        {
          "output_type": "display_data",
          "data": {
            "text/plain": [
              "<Figure size 432x216 with 2 Axes>"
            ],
            "image/png": "[encoded data removed]"
          },
          "metadata": {
            "needs_background": "light"
          }
        },
        {
          "output_type": "display_data",
          "data": {
            "text/plain": [
              "<Figure size 432x216 with 2 Axes>"
            ],
            "image/png": "[encoded data removed]"
          },
          "metadata": {
            "needs_background": "light"
          }
        },
        {
          "output_type": "display_data",
          "data": {
            "text/plain": [
              "<Figure size 432x216 with 2 Axes>"
            ],
            "image/png": "[encoded data removed]"
          },
          "metadata": {
            "needs_background": "light"
          }
        }
      ]
    },
    {
      "cell_type": "markdown",
      "source": [
        "#COCEPTOS DE BATCH_NORMALIZATION Y DROPOUT"
      ],
      "metadata": {
        "id": "sPslniqx1rBR"
      },
      "id": "sPslniqx1rBR"
    },
    {
      "cell_type": "markdown",
      "source": [
        "**Batch_normalization**\n",
        "\n",
        "- Concepto \n",
        "\n",
        "    El \"batch_normalization\", como su nombre indica, normaliza los lotes de datos, de manera que la media de salida de cada lote de los datos estará alrededor del cero y desviacióne estándar cerca de 1. La media y la desviación estándar de cada variable se actualizan para cada minilote y se mantiene un promedio en ejecución.\n",
        "    \n",
        "    Sin embargo, no actúa igual que cuando lo hacíamos de manera \"manual\", puesto que normalizabamos los datos de entrenamiento y los de test por separado, para no contaminar los datos de test en función de los de entrenamiento. Sin embargo, esta función utiliza la media y la desviación estándar de los lotes de entrenamiento para normalizar la salida de los datos de test.  \n",
        "\n",
        "    Esto implica que solo normalizará los datos de test cuando haya utilizado datos de entrenamiento con estadísticas similares.\n",
        "\n",
        "    Como los datos de test están influidos por los de entrenamiento, la precisión será menor y nuestro modelo no será óptimo. \n",
        "\n",
        "- Aplicación al modelo 1\n",
        "\n",
        "    Veamos que ocurre si empleamos el batch_normalization en el modelo 1:\n"
      ],
      "metadata": {
        "id": "xjLJ9nNC13gj"
      },
      "id": "xjLJ9nNC13gj"
    },
    {
      "cell_type": "markdown",
      "source": [
        "Antes de crear la red, volvemos a importar los datos porque los anteriores ya están normalizados."
      ],
      "metadata": {
        "id": "ucb50ceT2dY7"
      },
      "id": "ucb50ceT2dY7"
    },
    {
      "cell_type": "code",
      "source": [
        "(train_imagesBN, train_labelsBN), (test_imagesBN, test_labelsBN) = tf.keras.datasets.fashion_mnist.load_data()\n",
        "assert train_imagesBN.shape == (60000,28,28)\n",
        "assert test_imagesBN.shape == (10000,28,28)\n",
        "assert train_labelsBN.shape == (60000,)\n",
        "assert test_labelsBN.shape == (10000,)"
      ],
      "metadata": {
        "id": "cwBqdc__2bey"
      },
      "id": "cwBqdc__2bey",
      "execution_count": null,
      "outputs": []
    },
    {
      "cell_type": "markdown",
      "source": [
        "Importamos la librería."
      ],
      "metadata": {
        "id": "etiK89kI23E2"
      },
      "id": "etiK89kI23E2"
    },
    {
      "cell_type": "code",
      "source": [
        "from keras.layers import BatchNormalization"
      ],
      "metadata": {
        "id": "3mGEyA1L3kpO"
      },
      "id": "3mGEyA1L3kpO",
      "execution_count": null,
      "outputs": []
    },
    {
      "cell_type": "markdown",
      "source": [
        "Creamos la red como anteriormente y añadimos la capa de normalización."
      ],
      "metadata": {
        "id": "E86P6T9w3oHQ"
      },
      "id": "E86P6T9w3oHQ"
    },
    {
      "cell_type": "code",
      "source": [
        "modelBN = Sequential()\n",
        "modelBN.add(Conv2D(32, (5, 5), strides=(1, 1), activation='relu', input_shape=(28,28,1)))\n",
        "modelBN.add(MaxPooling2D((2, 2)))\n",
        "\n",
        "modelBN.add(Conv2D(64, (5, 5), strides=(1, 1), activation='relu'))\n",
        "modelBN.add(MaxPooling2D((2, 2)))\n",
        "\n",
        "modelBN.add(Flatten())\n",
        "modelBN.add(BatchNormalization())\n",
        "modelBN.add(Dense(10, activation='softmax'))\n",
        "modelBN.summary()"
      ],
      "metadata": {
        "id": "u-MlSk8T17vI",
        "outputId": "ba627985-5fba-41e7-bb73-e6b92de719fc",
        "colab": {
          "base_uri": "https://localhost:8080/"
        }
      },
      "id": "u-MlSk8T17vI",
      "execution_count": null,
      "outputs": [
        {
          "output_type": "stream",
          "name": "stdout",
          "text": [
            "Model: \"sequential_7\"\n",
            "_________________________________________________________________\n",
            " Layer (type)                Output Shape              Param #   \n",
            "=================================================================\n",
            " conv2d_14 (Conv2D)          (None, 24, 24, 32)        832       \n",
            "                                                                 \n",
            " max_pooling2d_14 (MaxPoolin  (None, 12, 12, 32)       0         \n",
            " g2D)                                                            \n",
            "                                                                 \n",
            " conv2d_15 (Conv2D)          (None, 8, 8, 64)          51264     \n",
            "                                                                 \n",
            " max_pooling2d_15 (MaxPoolin  (None, 4, 4, 64)         0         \n",
            " g2D)                                                            \n",
            "                                                                 \n",
            " flatten_7 (Flatten)         (None, 1024)              0         \n",
            "                                                                 \n",
            " batch_normalization (BatchN  (None, 1024)             4096      \n",
            " ormalization)                                                   \n",
            "                                                                 \n",
            " dense_11 (Dense)            (None, 10)                10250     \n",
            "                                                                 \n",
            "=================================================================\n",
            "Total params: 66,442\n",
            "Trainable params: 64,394\n",
            "Non-trainable params: 2,048\n",
            "_________________________________________________________________\n"
          ]
        }
      ]
    },
    {
      "cell_type": "code",
      "source": [
        "modelBN.compile(loss=sparse_categorical_crossentropy,\n",
        "              optimizer='sgd',\n",
        "              metrics=['accuracy'])"
      ],
      "metadata": {
        "id": "L8nFLh295Hb2"
      },
      "id": "L8nFLh295Hb2",
      "execution_count": null,
      "outputs": []
    },
    {
      "cell_type": "code",
      "source": [
        "historyBN=modelBN.fit(train_imagesBN, train_labelsBN,\n",
        "          batch_size=50,\n",
        "          epochs=5,\n",
        "          verbose=1,\n",
        "          validation_split=0.2)"
      ],
      "metadata": {
        "id": "M158Og9E5QaD",
        "outputId": "3ad03a7b-558e-4f3b-e364-426d57e9dda2",
        "colab": {
          "base_uri": "https://localhost:8080/"
        }
      },
      "id": "M158Og9E5QaD",
      "execution_count": null,
      "outputs": [
        {
          "output_type": "stream",
          "name": "stdout",
          "text": [
            "Epoch 1/5\n",
            "960/960 [==============================] - 4s 4ms/step - loss: 0.5165 - accuracy: 0.8166 - val_loss: 0.4154 - val_accuracy: 0.8540\n",
            "Epoch 2/5\n",
            "960/960 [==============================] - 4s 4ms/step - loss: 0.3730 - accuracy: 0.8687 - val_loss: 0.3968 - val_accuracy: 0.8545\n",
            "Epoch 3/5\n",
            "960/960 [==============================] - 3s 4ms/step - loss: 0.3286 - accuracy: 0.8843 - val_loss: 0.3979 - val_accuracy: 0.8582\n",
            "Epoch 4/5\n",
            "960/960 [==============================] - 4s 4ms/step - loss: 0.3015 - accuracy: 0.8959 - val_loss: 0.3295 - val_accuracy: 0.8861\n",
            "Epoch 5/5\n",
            "960/960 [==============================] - 3s 3ms/step - loss: 0.2822 - accuracy: 0.8996 - val_loss: 0.3772 - val_accuracy: 0.8742\n"
          ]
        }
      ]
    },
    {
      "cell_type": "markdown",
      "source": [
        "Vemos que la precisión es del 89,61% frente al 85,20% del caso 1, muy similar aunque esta sea un poco más precisa. Podemos asumir con esto que los datos de test son muy similares a los datos de entrenamiento. "
      ],
      "metadata": {
        "id": "Z-L02rIZ6STb"
      },
      "id": "Z-L02rIZ6STb"
    },
    {
      "cell_type": "markdown",
      "source": [
        "**Dropout**\n",
        "\n",
        "- Concepto \n",
        "\n",
        "    Cada cierto numero de datos introduce uno de ellos con valor 0, siendo su aportación nula y en la cual los pesos no varían tras su paso. De esta manera, el dropout permite que los pesos no se ajusten demasiado, y por lo tanto evitar el sobreajuste que empeore el modelo. \n",
        "\n",
        "    El hecho de que neuronas al azar no intervengan durante el entrenamiento impica que otras neuronas deben actuar para las predicciones de las neuronas que el Dropout ha eliminado. Se cree que esto da lugar a que la red aprenda múltiples representaciones internas independientes.\n",
        "    \n",
        "    La consecuencia es que la red pierde sensiblidad a los pesos de las neuronas, por lo que la red obtiene una generalización mejor y la probablidad del sobreentrenamiento es menor.\n",
        "\n",
        "- Aplicación al modelo 1\n",
        "\n",
        "    Veamos que ocurre si empleamos el dropout en el modelo 1:\n"
      ],
      "metadata": {
        "id": "y2hDZk_z6zzc"
      },
      "id": "y2hDZk_z6zzc"
    },
    {
      "cell_type": "markdown",
      "source": [
        "A diferencia del bacth_normalization, nos sirven los datos importados al principio de la práctica, por lo que nos ahorramos el volver a importamos. \n",
        "\n",
        "Importamos la librería y creamos la red de neuronas:"
      ],
      "metadata": {
        "id": "gECHaWY4DquE"
      },
      "id": "gECHaWY4DquE"
    },
    {
      "cell_type": "code",
      "source": [
        "from keras.layers import Dropout"
      ],
      "metadata": {
        "id": "k4wDlMJFECAx"
      },
      "id": "k4wDlMJFECAx",
      "execution_count": null,
      "outputs": []
    },
    {
      "cell_type": "markdown",
      "source": [
        " Elegimos una tasa de dropout del 20 %, lo que significa que una de cada cinco entradas se excluirá al azar de cada ciclo de actualización."
      ],
      "metadata": {
        "id": "DJ-vzvGTIlQU"
      },
      "id": "DJ-vzvGTIlQU"
    },
    {
      "cell_type": "code",
      "source": [
        "modelD = Sequential()\n",
        "modelD.add(Conv2D(32, (5, 5), strides=(1, 1), activation='relu', input_shape=(28,28,1)))\n",
        "modelD.add(MaxPooling2D((2, 2)))\n",
        "\n",
        "modelD.add(Conv2D(64, (5, 5), strides=(1, 1), activation='relu'))\n",
        "modelD.add(MaxPooling2D((2, 2)))\n",
        "modelD.add(Dropout(0.2))\n",
        "\n",
        "modelD.add(Flatten())\n",
        "modelD.add(Dense(10, activation='softmax'))\n",
        "modelD.summary()"
      ],
      "metadata": {
        "id": "GJphbDfGF6vs",
        "colab": {
          "base_uri": "https://localhost:8080/"
        },
        "outputId": "3167c49a-2025-4eac-f77b-d367f8033413"
      },
      "id": "GJphbDfGF6vs",
      "execution_count": null,
      "outputs": [
        {
          "output_type": "stream",
          "name": "stdout",
          "text": [
            "Model: \"sequential_8\"\n",
            "_________________________________________________________________\n",
            " Layer (type)                Output Shape              Param #   \n",
            "=================================================================\n",
            " conv2d_16 (Conv2D)          (None, 24, 24, 32)        832       \n",
            "                                                                 \n",
            " max_pooling2d_16 (MaxPoolin  (None, 12, 12, 32)       0         \n",
            " g2D)                                                            \n",
            "                                                                 \n",
            " conv2d_17 (Conv2D)          (None, 8, 8, 64)          51264     \n",
            "                                                                 \n",
            " max_pooling2d_17 (MaxPoolin  (None, 4, 4, 64)         0         \n",
            " g2D)                                                            \n",
            "                                                                 \n",
            " dropout (Dropout)           (None, 4, 4, 64)          0         \n",
            "                                                                 \n",
            " flatten_8 (Flatten)         (None, 1024)              0         \n",
            "                                                                 \n",
            " dense_12 (Dense)            (None, 10)                10250     \n",
            "                                                                 \n",
            "=================================================================\n",
            "Total params: 62,346\n",
            "Trainable params: 62,346\n",
            "Non-trainable params: 0\n",
            "_________________________________________________________________\n"
          ]
        }
      ]
    },
    {
      "cell_type": "code",
      "source": [
        "modelD.compile(loss=sparse_categorical_crossentropy,\n",
        "              optimizer='sgd',\n",
        "              metrics=['accuracy'])"
      ],
      "metadata": {
        "id": "rhq5SZDgH78y"
      },
      "id": "rhq5SZDgH78y",
      "execution_count": null,
      "outputs": []
    },
    {
      "cell_type": "code",
      "source": [
        "historyD=modelD.fit(train_images, train_labels,\n",
        "          batch_size=50,\n",
        "          epochs=5,\n",
        "          verbose=1,\n",
        "          validation_split=0.2)"
      ],
      "metadata": {
        "colab": {
          "base_uri": "https://localhost:8080/"
        },
        "id": "hkY4fVThIA01",
        "outputId": "686f89e5-d0b4-4460-fcdf-4dd838b7e0a0"
      },
      "id": "hkY4fVThIA01",
      "execution_count": null,
      "outputs": [
        {
          "output_type": "stream",
          "name": "stdout",
          "text": [
            "Epoch 1/5\n",
            "960/960 [==============================] - 4s 4ms/step - loss: 1.0350 - accuracy: 0.6376 - val_loss: 0.6364 - val_accuracy: 0.7674\n",
            "Epoch 2/5\n",
            "960/960 [==============================] - 3s 4ms/step - loss: 0.6291 - accuracy: 0.7690 - val_loss: 0.5526 - val_accuracy: 0.8003\n",
            "Epoch 3/5\n",
            "960/960 [==============================] - 3s 3ms/step - loss: 0.5562 - accuracy: 0.7961 - val_loss: 0.5132 - val_accuracy: 0.8138\n",
            "Epoch 4/5\n",
            "960/960 [==============================] - 3s 4ms/step - loss: 0.5139 - accuracy: 0.8159 - val_loss: 0.4709 - val_accuracy: 0.8322\n",
            "Epoch 5/5\n",
            "960/960 [==============================] - 3s 4ms/step - loss: 0.4814 - accuracy: 0.8259 - val_loss: 0.4485 - val_accuracy: 0.8428\n"
          ]
        }
      ]
    },
    {
      "cell_type": "markdown",
      "source": [
        "Vemos que la precisión es del 85,40% frente al 85,20% del caso 1, muy similar aunque esta sea un 0.2% más precisa."
      ],
      "metadata": {
        "id": "C5EmqjGxIuBO"
      },
      "id": "C5EmqjGxIuBO"
    },
    {
      "cell_type": "markdown",
      "source": [
        "# CONCEPTO DE CALLBACKS"
      ],
      "metadata": {
        "id": "G5oiqbZYI8F7"
      },
      "id": "G5oiqbZYI8F7"
    },
    {
      "cell_type": "markdown",
      "source": [
        "- Concepto\n",
        "\n",
        "    Una Callback reúne varias funciones que se aplicarán en determinadas etapas de los datos de entrenamiento. Se emplean para obtener las estadísticas del modelo durante el entrenamiento. \n",
        "    Defines y usas las callbacks cuando quieres automatizar algunas tareas después de cada entrenamiento que te ayudan a controlar sobre el proceso de entrenamiento. Un ejemplo sería detener el entrenamiento cuando alcanza una cierta puntuación de precisión o de pérdida o ajustar las tasas de aprendizaje a lo largo del tiempo. Veamos algunos ejemplos: \n",
        "\n",
        "    - **EarlyStopping**, que para el entrenamiento si no hay cambios hacia val_loss después de las épocas que se desee y mantiene los mejores pesos una vez que se detiene el entrenamiento.\n",
        "\n",
        "    - **ModelCheckpoint**, que guarda el modelo después de cada epoch. \n",
        "\n",
        "    - **LearningRateScheduler.** Ajusta la tasa de aprendizaje a lo largo del tiempo usando un horario que ya escribes de antemano. Esta función devuelve la tasa de aprendizaje deseada basada en la epoch que se marca de entrada.\n",
        "\n",
        "    - **BaseLogger.** Callback que acumula las medias de cada época. Esta callback se aplica automáticamente a todos los modelos de Keras.\n",
        "\n",
        "\n",
        "- Aplicación al modelo 1\n",
        "\n",
        "    Veamos que ocurre si empleamos estas funciones en el modelo 1:"
      ],
      "metadata": {
        "id": "3yQyJkVZJIJx"
      },
      "id": "3yQyJkVZJIJx"
    },
    {
      "cell_type": "markdown",
      "source": [
        "**EarlyStopping**\n",
        "\n",
        "Importamos la libreria y creamos la red"
      ],
      "metadata": {
        "id": "Cqz3aJtkwiUO"
      },
      "id": "Cqz3aJtkwiUO"
    },
    {
      "cell_type": "code",
      "source": [
        "from keras.callbacks import EarlyStopping"
      ],
      "metadata": {
        "id": "wJt8stQNwHI8"
      },
      "id": "wJt8stQNwHI8",
      "execution_count": 1,
      "outputs": []
    },
    {
      "cell_type": "code",
      "source": [
        "modelES = Sequential()\n",
        "modelES.add(Conv2D(32, (5, 5), strides=(1, 1), activation='relu', input_shape=(28,28,1)))\n",
        "modelES.add(MaxPooling2D((2, 2)))\n",
        "\n",
        "modelES.add(Conv2D(64, (5, 5), strides=(1, 1), activation='relu'))\n",
        "modelES.add(MaxPooling2D((2, 2)))\n",
        "\n",
        "modelES.add(Flatten())\n",
        "modelES.add(Dense(10, activation='softmax'))\n",
        "modelES.summary()"
      ],
      "metadata": {
        "id": "tzCTKRB_x7xi",
        "outputId": "a93d81ea-d3ce-4284-ff3c-afa07171fcde",
        "colab": {
          "base_uri": "https://localhost:8080/"
        }
      },
      "id": "tzCTKRB_x7xi",
      "execution_count": 5,
      "outputs": [
        {
          "output_type": "stream",
          "name": "stdout",
          "text": [
            "Model: \"sequential\"\n",
            "_________________________________________________________________\n",
            " Layer (type)                Output Shape              Param #   \n",
            "=================================================================\n",
            " conv2d (Conv2D)             (None, 24, 24, 32)        832       \n",
            "                                                                 \n",
            " max_pooling2d (MaxPooling2D  (None, 12, 12, 32)       0         \n",
            " )                                                               \n",
            "                                                                 \n",
            " conv2d_1 (Conv2D)           (None, 8, 8, 64)          51264     \n",
            "                                                                 \n",
            " max_pooling2d_1 (MaxPooling  (None, 4, 4, 64)         0         \n",
            " 2D)                                                             \n",
            "                                                                 \n",
            " flatten (Flatten)           (None, 1024)              0         \n",
            "                                                                 \n",
            " dense (Dense)               (None, 10)                10250     \n",
            "                                                                 \n",
            "=================================================================\n",
            "Total params: 62,346\n",
            "Trainable params: 62,346\n",
            "Non-trainable params: 0\n",
            "_________________________________________________________________\n"
          ]
        }
      ]
    },
    {
      "cell_type": "code",
      "source": [
        "modelES.compile(loss=sparse_categorical_crossentropy,\n",
        "              optimizer='sgd',\n",
        "              metrics=['accuracy'])"
      ],
      "metadata": {
        "id": "X4DmGBulyNi7"
      },
      "id": "X4DmGBulyNi7",
      "execution_count": 6,
      "outputs": []
    },
    {
      "cell_type": "markdown",
      "source": [
        "Definimos que pare cuando no haya después de 3 épocas"
      ],
      "metadata": {
        "id": "6KpWdQdrxhUt"
      },
      "id": "6KpWdQdrxhUt"
    },
    {
      "cell_type": "code",
      "source": [
        "callback = tf.keras.callbacks.EarlyStopping(monitor='loss', patience=1)"
      ],
      "metadata": {
        "id": "uNdUz7kVxfnl"
      },
      "id": "uNdUz7kVxfnl",
      "execution_count": 11,
      "outputs": []
    },
    {
      "cell_type": "code",
      "source": [
        "historyES=modelES.fit(train_images, train_labels,\n",
        "          batch_size=50,\n",
        "          epochs=25,\n",
        "          verbose=1,\n",
        "          validation_split=0.2, callbacks=[callback])"
      ],
      "metadata": {
        "id": "WU57PkztyTk9",
        "outputId": "cc72db1e-9a1a-4f38-8cb2-379f2314d0a3",
        "colab": {
          "base_uri": "https://localhost:8080/"
        }
      },
      "id": "WU57PkztyTk9",
      "execution_count": 12,
      "outputs": [
        {
          "output_type": "stream",
          "name": "stdout",
          "text": [
            "Epoch 1/25\n",
            "960/960 [==============================] - 3s 3ms/step - loss: 0.2738 - accuracy: 0.9031 - val_loss: 0.3155 - val_accuracy: 0.8852\n",
            "Epoch 2/25\n",
            "960/960 [==============================] - 3s 3ms/step - loss: 0.2703 - accuracy: 0.9044 - val_loss: 0.3128 - val_accuracy: 0.8878\n",
            "Epoch 3/25\n",
            "960/960 [==============================] - 3s 3ms/step - loss: 0.2666 - accuracy: 0.9064 - val_loss: 0.3138 - val_accuracy: 0.8886\n",
            "Epoch 4/25\n",
            "960/960 [==============================] - 3s 3ms/step - loss: 0.2641 - accuracy: 0.9064 - val_loss: 0.3059 - val_accuracy: 0.8912\n",
            "Epoch 5/25\n",
            "960/960 [==============================] - 4s 4ms/step - loss: 0.2608 - accuracy: 0.9079 - val_loss: 0.3190 - val_accuracy: 0.8854\n",
            "Epoch 6/25\n",
            "960/960 [==============================] - 4s 4ms/step - loss: 0.2593 - accuracy: 0.9083 - val_loss: 0.3118 - val_accuracy: 0.8907\n",
            "Epoch 7/25\n",
            "960/960 [==============================] - 4s 4ms/step - loss: 0.2561 - accuracy: 0.9089 - val_loss: 0.3286 - val_accuracy: 0.8846\n",
            "Epoch 8/25\n",
            "960/960 [==============================] - 4s 4ms/step - loss: 0.2523 - accuracy: 0.9113 - val_loss: 0.3070 - val_accuracy: 0.8913\n",
            "Epoch 9/25\n",
            "960/960 [==============================] - 4s 4ms/step - loss: 0.2505 - accuracy: 0.9110 - val_loss: 0.2963 - val_accuracy: 0.8967\n",
            "Epoch 10/25\n",
            "960/960 [==============================] - 4s 4ms/step - loss: 0.2483 - accuracy: 0.9116 - val_loss: 0.2922 - val_accuracy: 0.8951\n",
            "Epoch 11/25\n",
            "960/960 [==============================] - 3s 3ms/step - loss: 0.2450 - accuracy: 0.9136 - val_loss: 0.2965 - val_accuracy: 0.8945\n",
            "Epoch 12/25\n",
            "960/960 [==============================] - 3s 3ms/step - loss: 0.2426 - accuracy: 0.9133 - val_loss: 0.3028 - val_accuracy: 0.8936\n",
            "Epoch 13/25\n",
            "960/960 [==============================] - 4s 4ms/step - loss: 0.2401 - accuracy: 0.9149 - val_loss: 0.2882 - val_accuracy: 0.8948\n",
            "Epoch 14/25\n",
            "960/960 [==============================] - 4s 4ms/step - loss: 0.2374 - accuracy: 0.9146 - val_loss: 0.2944 - val_accuracy: 0.8963\n",
            "Epoch 15/25\n",
            "960/960 [==============================] - 4s 4ms/step - loss: 0.2364 - accuracy: 0.9156 - val_loss: 0.2898 - val_accuracy: 0.8974\n",
            "Epoch 16/25\n",
            "960/960 [==============================] - 4s 4ms/step - loss: 0.2335 - accuracy: 0.9160 - val_loss: 0.2881 - val_accuracy: 0.8969\n",
            "Epoch 17/25\n",
            "960/960 [==============================] - 4s 4ms/step - loss: 0.2308 - accuracy: 0.9176 - val_loss: 0.2877 - val_accuracy: 0.8987\n",
            "Epoch 18/25\n",
            "960/960 [==============================] - 3s 3ms/step - loss: 0.2279 - accuracy: 0.9186 - val_loss: 0.2909 - val_accuracy: 0.8953\n",
            "Epoch 19/25\n",
            "960/960 [==============================] - 3s 3ms/step - loss: 0.2258 - accuracy: 0.9183 - val_loss: 0.2859 - val_accuracy: 0.9002\n",
            "Epoch 20/25\n",
            "960/960 [==============================] - 3s 3ms/step - loss: 0.2236 - accuracy: 0.9209 - val_loss: 0.2974 - val_accuracy: 0.8970\n",
            "Epoch 21/25\n",
            "960/960 [==============================] - 4s 4ms/step - loss: 0.2221 - accuracy: 0.9212 - val_loss: 0.2912 - val_accuracy: 0.8988\n",
            "Epoch 22/25\n",
            "960/960 [==============================] - 3s 4ms/step - loss: 0.2191 - accuracy: 0.9205 - val_loss: 0.2894 - val_accuracy: 0.8999\n",
            "Epoch 23/25\n",
            "960/960 [==============================] - 4s 4ms/step - loss: 0.2174 - accuracy: 0.9219 - val_loss: 0.2821 - val_accuracy: 0.9007\n",
            "Epoch 24/25\n",
            "960/960 [==============================] - 3s 3ms/step - loss: 0.2150 - accuracy: 0.9233 - val_loss: 0.2802 - val_accuracy: 0.9032\n",
            "Epoch 25/25\n",
            "960/960 [==============================] - 3s 3ms/step - loss: 0.2131 - accuracy: 0.9241 - val_loss: 0.2863 - val_accuracy: 0.8992\n"
          ]
        }
      ]
    },
    {
      "cell_type": "markdown",
      "source": [
        "Vemos que no se produce un stop en las epochs porque no hay ninguna época donde la pérdida se mantenga constante durante 3 seguidas. "
      ],
      "metadata": {
        "id": "7xYFA4Gd0e0j"
      },
      "id": "7xYFA4Gd0e0j"
    },
    {
      "cell_type": "markdown",
      "source": [
        "**ModelCheckpoint**"
      ],
      "metadata": {
        "id": "vsW_zlsR0zDY"
      },
      "id": "vsW_zlsR0zDY"
    },
    {
      "cell_type": "markdown",
      "source": [
        "Importamos la libreria y creamos la red"
      ],
      "metadata": {
        "id": "zH5zQTDx04z-"
      },
      "id": "zH5zQTDx04z-"
    },
    {
      "cell_type": "code",
      "source": [
        "from keras.callbacks import ModelCheckpoint"
      ],
      "metadata": {
        "id": "sUGmemwo0-Qe"
      },
      "id": "sUGmemwo0-Qe",
      "execution_count": 13,
      "outputs": []
    },
    {
      "cell_type": "code",
      "source": [
        "modelCP = Sequential()\n",
        "modelCP.add(Conv2D(32, (5, 5), strides=(1, 1), activation='relu', input_shape=(28,28,1)))\n",
        "modelCP.add(MaxPooling2D((2, 2)))\n",
        "\n",
        "modelCP.add(Conv2D(64, (5, 5), strides=(1, 1), activation='relu'))\n",
        "modelCP.add(MaxPooling2D((2, 2)))\n",
        "\n",
        "modelCP.add(Flatten())\n",
        "modelCP.add(Dense(10, activation='softmax'))\n",
        "modelCP.summary()"
      ],
      "metadata": {
        "id": "YyTrSOgx3TmO",
        "outputId": "16bf728a-2e77-4077-b72e-ff276bfcda43",
        "colab": {
          "base_uri": "https://localhost:8080/"
        }
      },
      "id": "YyTrSOgx3TmO",
      "execution_count": 18,
      "outputs": [
        {
          "output_type": "stream",
          "name": "stdout",
          "text": [
            "Model: \"sequential_2\"\n",
            "_________________________________________________________________\n",
            " Layer (type)                Output Shape              Param #   \n",
            "=================================================================\n",
            " conv2d_4 (Conv2D)           (None, 24, 24, 32)        832       \n",
            "                                                                 \n",
            " max_pooling2d_4 (MaxPooling  (None, 12, 12, 32)       0         \n",
            " 2D)                                                             \n",
            "                                                                 \n",
            " conv2d_5 (Conv2D)           (None, 8, 8, 64)          51264     \n",
            "                                                                 \n",
            " max_pooling2d_5 (MaxPooling  (None, 4, 4, 64)         0         \n",
            " 2D)                                                             \n",
            "                                                                 \n",
            " flatten_2 (Flatten)         (None, 1024)              0         \n",
            "                                                                 \n",
            " dense_2 (Dense)             (None, 10)                10250     \n",
            "                                                                 \n",
            "=================================================================\n",
            "Total params: 62,346\n",
            "Trainable params: 62,346\n",
            "Non-trainable params: 0\n",
            "_________________________________________________________________\n"
          ]
        }
      ]
    },
    {
      "cell_type": "code",
      "source": [
        "modelCP.compile(loss=sparse_categorical_crossentropy,\n",
        "              optimizer='sgd',\n",
        "              metrics=['accuracy'])"
      ],
      "metadata": {
        "id": "x3Y_3e4y3Uml"
      },
      "id": "x3Y_3e4y3Uml",
      "execution_count": 19,
      "outputs": []
    },
    {
      "cell_type": "markdown",
      "source": [
        "Definimos el ckeckpoint:"
      ],
      "metadata": {
        "id": "0To4fSxw3b1M"
      },
      "id": "0To4fSxw3b1M"
    },
    {
      "cell_type": "code",
      "source": [
        "checkpoint_filepath = '/tmp/checkpoint'\n",
        "model_checkpoint_callback = tf.keras.callbacks.ModelCheckpoint(\n",
        "    filepath=checkpoint_filepath,\n",
        "    save_weights_only=True,\n",
        "    monitor='val_accuracy',\n",
        "    mode='max',\n",
        "    save_best_only=True)"
      ],
      "metadata": {
        "id": "OUOMcqmO1LLc"
      },
      "id": "OUOMcqmO1LLc",
      "execution_count": 16,
      "outputs": []
    },
    {
      "cell_type": "code",
      "source": [
        "historyCP=modelCP.fit(train_images, train_labels,\n",
        "          batch_size=50,\n",
        "          epochs=5,\n",
        "          verbose=1,\n",
        "          validation_split=0.2, callbacks=[model_checkpoint_callback])"
      ],
      "metadata": {
        "id": "3em8ho2n3ysr",
        "outputId": "96dfc74a-18f5-495f-8af8-921e4d44bb9f",
        "colab": {
          "base_uri": "https://localhost:8080/"
        }
      },
      "id": "3em8ho2n3ysr",
      "execution_count": 21,
      "outputs": [
        {
          "output_type": "stream",
          "name": "stdout",
          "text": [
            "Epoch 1/5\n",
            "960/960 [==============================] - 4s 4ms/step - loss: 0.5342 - accuracy: 0.8077 - val_loss: 0.4974 - val_accuracy: 0.8277\n",
            "Epoch 2/5\n",
            "960/960 [==============================] - 3s 4ms/step - loss: 0.4857 - accuracy: 0.8263 - val_loss: 0.4630 - val_accuracy: 0.8372\n",
            "Epoch 3/5\n",
            "960/960 [==============================] - 4s 4ms/step - loss: 0.4555 - accuracy: 0.8388 - val_loss: 0.4500 - val_accuracy: 0.8399\n",
            "Epoch 4/5\n",
            "960/960 [==============================] - 3s 3ms/step - loss: 0.4326 - accuracy: 0.8464 - val_loss: 0.4196 - val_accuracy: 0.8529\n",
            "Epoch 5/5\n",
            "960/960 [==============================] - 3s 4ms/step - loss: 0.4147 - accuracy: 0.8528 - val_loss: 0.4174 - val_accuracy: 0.8547\n"
          ]
        }
      ]
    },
    {
      "cell_type": "markdown",
      "source": [
        "**LearningRateScheduler**\n",
        "\n",
        "Importamos la libería y realizamos los mismos pasos que con las dos anteriores: "
      ],
      "metadata": {
        "id": "B4E2_34-4jVt"
      },
      "id": "B4E2_34-4jVt"
    },
    {
      "cell_type": "code",
      "source": [
        "from tensorflow.keras.callbacks import LearningRateScheduler\n",
        "import math"
      ],
      "metadata": {
        "id": "6zAxYZhe5gM6"
      },
      "id": "6zAxYZhe5gM6",
      "execution_count": 31,
      "outputs": []
    },
    {
      "cell_type": "code",
      "source": [
        "modelLR = Sequential()\n",
        "modelLR.add(Conv2D(32, (5, 5), strides=(1, 1), activation='relu', input_shape=(28,28,1)))\n",
        "modelLR.add(MaxPooling2D((2, 2)))\n",
        "\n",
        "modelLR.add(Conv2D(64, (5, 5), strides=(1, 1), activation='relu'))\n",
        "modelLR.add(MaxPooling2D((2, 2)))\n",
        "\n",
        "modelLR.add(Flatten())\n",
        "modelLR.add(Dense(10, activation='softmax'))\n",
        "modelLR.summary()"
      ],
      "metadata": {
        "id": "KPUrRQlL4sho",
        "outputId": "beacb751-0aab-40a3-fe09-d335bd9cc166",
        "colab": {
          "base_uri": "https://localhost:8080/"
        }
      },
      "id": "KPUrRQlL4sho",
      "execution_count": 32,
      "outputs": [
        {
          "output_type": "stream",
          "name": "stdout",
          "text": [
            "Model: \"sequential_4\"\n",
            "_________________________________________________________________\n",
            " Layer (type)                Output Shape              Param #   \n",
            "=================================================================\n",
            " conv2d_8 (Conv2D)           (None, 24, 24, 32)        832       \n",
            "                                                                 \n",
            " max_pooling2d_8 (MaxPooling  (None, 12, 12, 32)       0         \n",
            " 2D)                                                             \n",
            "                                                                 \n",
            " conv2d_9 (Conv2D)           (None, 8, 8, 64)          51264     \n",
            "                                                                 \n",
            " max_pooling2d_9 (MaxPooling  (None, 4, 4, 64)         0         \n",
            " 2D)                                                             \n",
            "                                                                 \n",
            " flatten_4 (Flatten)         (None, 1024)              0         \n",
            "                                                                 \n",
            " dense_4 (Dense)             (None, 10)                10250     \n",
            "                                                                 \n",
            "=================================================================\n",
            "Total params: 62,346\n",
            "Trainable params: 62,346\n",
            "Non-trainable params: 0\n",
            "_________________________________________________________________\n"
          ]
        }
      ]
    },
    {
      "cell_type": "code",
      "source": [
        "modelLR.compile(loss=sparse_categorical_crossentropy,\n",
        "              optimizer='sgd',\n",
        "              metrics=['accuracy'])"
      ],
      "metadata": {
        "id": "ovqv0eSZ40ce"
      },
      "id": "ovqv0eSZ40ce",
      "execution_count": 33,
      "outputs": []
    },
    {
      "cell_type": "code",
      "source": [
        "def step_decay(epoch):\n",
        "\tinitial_lrate = 0.1\n",
        "\tdrop = 0.5\n",
        "\tepochs_drop = 10.0\n",
        "\tlrate = initial_lrate * math.pow(drop, math.floor((1+epoch)/epochs_drop))\n",
        "\treturn lrate"
      ],
      "metadata": {
        "id": "aNyQc5Q86PEk"
      },
      "id": "aNyQc5Q86PEk",
      "execution_count": 34,
      "outputs": []
    },
    {
      "cell_type": "code",
      "source": [
        "historyLR=modelLR.fit(train_images, train_labels,\n",
        "          batch_size=50,\n",
        "          epochs=5,\n",
        "          verbose=1,\n",
        "          validation_split=0.2, callbacks=LearningRateScheduler(step_decay))"
      ],
      "metadata": {
        "id": "ocuzTmL-43ip",
        "outputId": "c7eb9c1c-03ea-49be-ae08-3a118bbf1181",
        "colab": {
          "base_uri": "https://localhost:8080/"
        }
      },
      "id": "ocuzTmL-43ip",
      "execution_count": 35,
      "outputs": [
        {
          "output_type": "stream",
          "name": "stdout",
          "text": [
            "Epoch 1/5\n",
            "960/960 [==============================] - 5s 4ms/step - loss: 0.6043 - accuracy: 0.7806 - val_loss: 0.4351 - val_accuracy: 0.8422 - lr: 0.1000\n",
            "Epoch 2/5\n",
            "960/960 [==============================] - 3s 4ms/step - loss: 0.3820 - accuracy: 0.8655 - val_loss: 0.3489 - val_accuracy: 0.8743 - lr: 0.1000\n",
            "Epoch 3/5\n",
            "960/960 [==============================] - 3s 4ms/step - loss: 0.3316 - accuracy: 0.8815 - val_loss: 0.3178 - val_accuracy: 0.8882 - lr: 0.1000\n",
            "Epoch 4/5\n",
            "960/960 [==============================] - 3s 3ms/step - loss: 0.3047 - accuracy: 0.8902 - val_loss: 0.3217 - val_accuracy: 0.8876 - lr: 0.1000\n",
            "Epoch 5/5\n",
            "960/960 [==============================] - 3s 3ms/step - loss: 0.2826 - accuracy: 0.8975 - val_loss: 0.3094 - val_accuracy: 0.8891 - lr: 0.1000\n"
          ]
        }
      ]
    }
  ],
  "metadata": {
    "kernelspec": {
      "display_name": "Python 3 (ipykernel)",
      "language": "python",
      "name": "python3"
    },
    "language_info": {
      "codemirror_mode": {
        "name": "ipython",
        "version": 3
      },
      "file_extension": ".py",
      "mimetype": "text/x-python",
      "name": "python",
      "nbconvert_exporter": "python",
      "pygments_lexer": "ipython3",
      "version": "3.8.8"
    },
    "colab": {
      "provenance": []
    },
    "accelerator": "GPU",
    "gpuClass": "standard"
  },
  "nbformat": 4,
  "nbformat_minor": 5
}