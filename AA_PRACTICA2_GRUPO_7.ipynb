{
  "cells": [
    {
      "cell_type": "markdown",
      "source": [
        "**PILAR ARIAS VAZQUEZ, ÁLVARO GARCÍA CID, YEDRA MARTÍN OLMOS, AMAYA SARASA COLINA**\n",
        "\n",
        "**<GRUPO 7>**"
      ],
      "metadata": {
        "id": "C_wsAdTJP-WU"
      },
      "id": "C_wsAdTJP-WU"
    },
    {
      "cell_type": "markdown",
      "source": [
        "# PREPARACIÓN DE DATOS"
      ],
      "metadata": {
        "id": "jzWcJgpMQaR3"
      },
      "id": "jzWcJgpMQaR3"
    },
    {
      "cell_type": "markdown",
      "source": [
        "# CASOS"
      ],
      "metadata": {
        "id": "RQBuwN9iQmsE"
      },
      "id": "RQBuwN9iQmsE"
    },
    {
      "cell_type": "markdown",
      "source": [
        "## CASO 1.1"
      ],
      "metadata": {
        "id": "yZdwmGjvQs7y"
      },
      "id": "yZdwmGjvQs7y"
    },
    {
      "cell_type": "code",
      "source": [],
      "metadata": {
        "id": "g2NYcgWiQ2FC"
      },
      "id": "g2NYcgWiQ2FC",
      "execution_count": null,
      "outputs": []
    },
    {
      "cell_type": "markdown",
      "source": [
        "## CASO 1.2"
      ],
      "metadata": {
        "id": "mRXmfEUZQ3pM"
      },
      "id": "mRXmfEUZQ3pM"
    },
    {
      "cell_type": "code",
      "source": [],
      "metadata": {
        "id": "orGBMsGQQ8hu"
      },
      "id": "orGBMsGQQ8hu",
      "execution_count": null,
      "outputs": []
    },
    {
      "cell_type": "markdown",
      "source": [
        "## CASO 2.1"
      ],
      "metadata": {
        "id": "FyC-483CQvNV"
      },
      "id": "FyC-483CQvNV"
    },
    {
      "cell_type": "code",
      "source": [],
      "metadata": {
        "id": "DxOwQ2BSQ7zC"
      },
      "id": "DxOwQ2BSQ7zC",
      "execution_count": null,
      "outputs": []
    },
    {
      "cell_type": "markdown",
      "source": [
        "## CASO 2.2"
      ],
      "metadata": {
        "id": "1CzDLr1MQ9us"
      },
      "id": "1CzDLr1MQ9us"
    },
    {
      "cell_type": "code",
      "source": [],
      "metadata": {
        "id": "nXU3u785RAQ3"
      },
      "id": "nXU3u785RAQ3",
      "execution_count": null,
      "outputs": []
    },
    {
      "cell_type": "markdown",
      "source": [
        "## CASO 3.1"
      ],
      "metadata": {
        "id": "ZXcw69NqQxPf"
      },
      "id": "ZXcw69NqQxPf"
    },
    {
      "cell_type": "code",
      "source": [],
      "metadata": {
        "id": "C3UR1JlpRKkE"
      },
      "id": "C3UR1JlpRKkE",
      "execution_count": null,
      "outputs": []
    },
    {
      "cell_type": "markdown",
      "source": [
        "## CASO 3.2"
      ],
      "metadata": {
        "id": "wrVNiMbqRMDJ"
      },
      "id": "wrVNiMbqRMDJ"
    },
    {
      "cell_type": "code",
      "source": [],
      "metadata": {
        "id": "ooRfDyc4RN-U"
      },
      "id": "ooRfDyc4RN-U",
      "execution_count": null,
      "outputs": []
    },
    {
      "cell_type": "markdown",
      "source": [
        "# ANÁLISIS RESULTADOS"
      ],
      "metadata": {
        "id": "RIFEUCxQROe8"
      },
      "id": "RIFEUCxQROe8"
    },
    {
      "cell_type": "code",
      "source": [],
      "metadata": {
        "id": "DR-8UWaYRcln"
      },
      "id": "DR-8UWaYRcln",
      "execution_count": null,
      "outputs": []
    }
  ],
  "metadata": {
    "kernelspec": {
      "display_name": "Python 3 (ipykernel)",
      "language": "python",
      "name": "python3"
    },
    "language_info": {
      "codemirror_mode": {
        "name": "ipython",
        "version": 3
      },
      "file_extension": ".py",
      "mimetype": "text/x-python",
      "name": "python",
      "nbconvert_exporter": "python",
      "pygments_lexer": "ipython3",
      "version": "3.8.8"
    },
    "colab": {
      "provenance": []
    }
  },
  "nbformat": 4,
  "nbformat_minor": 5
}